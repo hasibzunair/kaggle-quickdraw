{
 "cells": [
  {
   "cell_type": "markdown",
   "metadata": {},
   "source": [
    "## Convert datapoints to images and save them in disk"
   ]
  },
  {
   "cell_type": "code",
   "execution_count": 9,
   "metadata": {},
   "outputs": [],
   "source": [
    "import os\n",
    "import ast\n",
    "import cv2\n",
    "import numpy as np\n",
    "import pandas as pd\n",
    "import seaborn as sns\n",
    "import matplotlib.pyplot as plt\n",
    "\n",
    "from sklearn.utils import shuffle\n",
    "from sklearn.model_selection import train_test_split\n",
    "from sklearn.metrics import confusion_matrix\n",
    "\n",
    "from keras import optimizers\n",
    "from keras.utils import np_utils\n",
    "from keras.layers import Dense, Dropout, Flatten, Conv2D, MaxPool2D, Activation, BatchNormalization\n",
    "from keras.models import Sequential"
   ]
  },
  {
   "cell_type": "code",
   "execution_count": 10,
   "metadata": {},
   "outputs": [],
   "source": [
    "# convert data points to images\n",
    "# needs to be optimized for higher quality of images\n",
    "dim = (48, 48)"
   ]
  },
  {
   "cell_type": "code",
   "execution_count": 11,
   "metadata": {},
   "outputs": [
    {
     "name": "stdout",
     "output_type": "stream",
     "text": [
      "['test_simplified.csv', 'train_simplified.zip', 'train_simplified']\n"
     ]
    }
   ],
   "source": [
    "# see contenst in data folder\n",
    "print(os.listdir(\"data\"))"
   ]
  },
  {
   "cell_type": "code",
   "execution_count": 12,
   "metadata": {},
   "outputs": [],
   "source": [
    "TRAIN_PATH = \"data/train_simplified/\"\n",
    "TEST_PATH = \"data/test_simplified.csv\"\n",
    "SUBMISSION_NAME = 'submission.csv'"
   ]
  },
  {
   "cell_type": "markdown",
   "metadata": {},
   "source": [
    "* go the each csv file in training \n",
    "* read nrwos of data from all of the csv files in the train_simplified\n",
    "* set nrows to **None** to get **all** the data from **all** csv files in the train_simplified folder\n"
   ]
  },
  {
   "cell_type": "code",
   "execution_count": 13,
   "metadata": {},
   "outputs": [],
   "source": [
    "train = pd.DataFrame()\n",
    "for file in os.listdir(TRAIN_PATH):\n",
    "    train = train.append(pd.read_csv(TRAIN_PATH + file, usecols=[1, 5], nrows=1000))\n",
    "\n",
    "#shuffle the data\n",
    "train = shuffle(train, random_state=123)"
   ]
  },
  {
   "cell_type": "code",
   "execution_count": 15,
   "metadata": {},
   "outputs": [],
   "source": [
    "# set nrows = None for all the datapoints\n",
    "test = pd.read_csv(TEST_PATH, usecols=[0, 2], nrows=100) # was 100 before"
   ]
  },
  {
   "cell_type": "code",
   "execution_count": 17,
   "metadata": {},
   "outputs": [
    {
     "data": {
      "text/plain": [
       "(340000, 100)"
      ]
     },
     "execution_count": 17,
     "metadata": {},
     "output_type": "execute_result"
    }
   ],
   "source": [
    "len(train), len(test)"
   ]
  },
  {
   "cell_type": "code",
   "execution_count": 20,
   "metadata": {},
   "outputs": [
    {
     "data": {
      "text/plain": [
       "100"
      ]
     },
     "execution_count": 20,
     "metadata": {},
     "output_type": "execute_result"
    }
   ],
   "source": [
    "#  testing datapoints stacked in a list\n",
    "drawings_test = [ast.literal_eval(pts) for pts in test['drawing'].values]\n",
    "len(drawings_test)"
   ]
  },
  {
   "cell_type": "code",
   "execution_count": 27,
   "metadata": {},
   "outputs": [],
   "source": [
    "def save_test_images(datapoints):\n",
    "    images = []\n",
    "    count = 0\n",
    "    for data in datapoints:\n",
    "        fig, ax = plt.subplots()\n",
    "        for x,y in data:\n",
    "            ax.plot(x, y, marker='.')\n",
    "            ax.axis('off')\n",
    "            ax = plt.gca()\n",
    "            ax.invert_yaxis()\n",
    "            fig.canvas.draw()\n",
    "        \n",
    "        #save the image\n",
    "        plt.savefig('test_images/'+ str(count) +'.jpg')\n",
    "        plt.close(fig)\n",
    "        count+=1\n",
    "        \n",
    "# save_images(drawings_x)"
   ]
  },
  {
   "cell_type": "code",
   "execution_count": 28,
   "metadata": {},
   "outputs": [],
   "source": [
    "# save the test images in a folder \n",
    "save_test_images(drawings_test)"
   ]
  },
  {
   "cell_type": "markdown",
   "metadata": {},
   "source": [
    "Do same for trainig set"
   ]
  },
  {
   "cell_type": "code",
   "execution_count": 29,
   "metadata": {},
   "outputs": [
    {
     "data": {
      "text/plain": [
       "340000"
      ]
     },
     "execution_count": 29,
     "metadata": {},
     "output_type": "execute_result"
    }
   ],
   "source": [
    "#  training datapoints stacked in a list\n",
    "drawings_train = [ast.literal_eval(pts) for pts in train['drawing'].values]\n",
    "len(drawings_train)"
   ]
  },
  {
   "cell_type": "code",
   "execution_count": null,
   "metadata": {},
   "outputs": [],
   "source": []
  }
 ],
 "metadata": {
  "kernelspec": {
   "display_name": "Python 3",
   "language": "python",
   "name": "python3"
  },
  "language_info": {
   "codemirror_mode": {
    "name": "ipython",
    "version": 3
   },
   "file_extension": ".py",
   "mimetype": "text/x-python",
   "name": "python",
   "nbconvert_exporter": "python",
   "pygments_lexer": "ipython3",
   "version": "3.6.5"
  }
 },
 "nbformat": 4,
 "nbformat_minor": 2
}
