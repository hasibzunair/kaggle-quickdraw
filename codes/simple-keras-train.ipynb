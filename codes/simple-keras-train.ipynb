{
 "cells": [
  {
   "cell_type": "code",
   "execution_count": 44,
   "metadata": {},
   "outputs": [
    {
     "name": "stdout",
     "output_type": "stream",
     "text": [
      "['test_simplified.csv', 'train_simplified.zip', 'train_simplified']\n"
     ]
    }
   ],
   "source": [
    "import os\n",
    "import ast\n",
    "import cv2\n",
    "import numpy as np\n",
    "import pandas as pd\n",
    "import seaborn as sns\n",
    "import matplotlib.pyplot as plt\n",
    "\n",
    "from sklearn.utils import shuffle\n",
    "from sklearn.model_selection import train_test_split\n",
    "\n",
    "import keras\n",
    "from keras import optimizers\n",
    "from keras.utils import np_utils\n",
    "from keras.models import Model, Sequential\n",
    "from keras.callbacks import ModelCheckpoint\n",
    "from keras.layers import Dense, Input, Dropout, Flatten, Conv2D, MaxPooling2D, Activation, BatchNormalization\n",
    "from keras.models import Sequential\n",
    "from keras import backend as K\n",
    "\n",
    "print(os.listdir(\"data\"))"
   ]
  },
  {
   "cell_type": "code",
   "execution_count": 2,
   "metadata": {},
   "outputs": [],
   "source": [
    "TRAIN_PATH = \"data/train_simplified/\"\n",
    "TEST_PATH = \"data/test_simplified.csv\"\n",
    "SUBMISSION_NAME = 'submission.csv'"
   ]
  },
  {
   "cell_type": "code",
   "execution_count": 97,
   "metadata": {},
   "outputs": [],
   "source": [
    "train = pd.DataFrame()\n",
    "\n",
    "for file in os.listdir(TRAIN_PATH):\n",
    "    train = train.append(pd.read_csv(TRAIN_PATH + file, usecols = [1, 5], nrows = 200))\n",
    "train = shuffle(train, random_state=123)  "
   ]
  },
  {
   "cell_type": "code",
   "execution_count": 98,
   "metadata": {},
   "outputs": [
    {
     "data": {
      "text/plain": [
       "68000"
      ]
     },
     "execution_count": 98,
     "metadata": {},
     "output_type": "execute_result"
    }
   ],
   "source": [
    "len(train)"
   ]
  },
  {
   "cell_type": "code",
   "execution_count": 99,
   "metadata": {},
   "outputs": [
    {
     "name": "stdout",
     "output_type": "stream",
     "text": [
      "Total number of labels: 68000\n"
     ]
    }
   ],
   "source": [
    "# fixing label in the training set\n",
    "train['word'] = train['word'].replace(' ', '_', regex=True)\n",
    "\n",
    "# get labels and one-hot encode them.\n",
    "n_classes = train['word'].unique()\n",
    "labels = pd.get_dummies(train['word']).values\n",
    "train.drop(['word'], axis=1, inplace=True)\n",
    "\n",
    "print(\"Total number of labels: \"+str(len(labels)))"
   ]
  },
  {
   "cell_type": "code",
   "execution_count": 70,
   "metadata": {},
   "outputs": [
    {
     "name": "stdout",
     "output_type": "stream",
     "text": [
      "[0 0 0 0 0 0 0 0 0 0 0 0 0 0 0 0 0 0 0 0 0 0 0 0 0 0 0 0 0 0 0 0 0 0 0 0 0\n",
      " 0 0 0 0 0 0 0 0 0 0 0 0 0 0 0 0 0 0 0 0 0 0 0 0 0 0 0 0 0 0 0 0 0 0 0 0 0\n",
      " 0 0 0 0 0 0 0 0 0 0 0 0 0 0 0 0 0 0 0 0 0 0 0 0 0 0 0 0 0 0 0 0 0 0 0 0 0\n",
      " 0 0 0 0 0 0 0 0 0 0 0 0 0 0 0 0 0 0 0 0 0 0 0 0 0 0 0 0 0 0 0 0 0 0 0 0 0\n",
      " 0 0 0 0 0 0 0 0 0 0 0 0 0 0 0 0 0 0 0 0 0 0 0 0 0 0 0 0 0 0 0 0 0 0 0 0 0\n",
      " 0 0 0 0 0 0 0 0 0 0 0 0 0 0 0 0 0 0 0 0 0 0 0 0 0 0 0 0 0 0 0 0 0 0 0 0 0\n",
      " 0 0 0 0 0 0 0 0 0 0 0 0 0 0 0 0 0 0 0 0 0 0 0 0 0 0 0 0 0 0 0 0 0 0 0 0 0\n",
      " 0 0 0 0 0 0 0 0 0 0 0 0 0 0 0 0 0 0 1 0 0 0 0 0 0 0 0 0 0 0 0 0 0 0 0 0 0\n",
      " 0 0 0 0 0 0 0 0 0 0 0 0 0 0 0 0 0 0 0 0 0 0 0 0 0 0 0 0 0 0 0 0 0 0 0 0 0\n",
      " 0 0 0 0 0 0 0]\n"
     ]
    }
   ],
   "source": [
    "print(labels[1000])"
   ]
  },
  {
   "cell_type": "code",
   "execution_count": 103,
   "metadata": {},
   "outputs": [],
   "source": [
    "BASE_SIZE = 256\n",
    "RE_SIZE = (70,70)\n",
    "\n",
    "def datapoints_to_img(raw_strokes, size=256, lw=6, time_color=True):\n",
    "    \n",
    "    img = np.zeros((BASE_SIZE, BASE_SIZE), np.uint8)\n",
    "    for t, stroke in enumerate(raw_strokes):\n",
    "        for i in range(len(stroke[0]) - 1):\n",
    "            color = 255 - min(t, 10) * 13 if time_color else 255\n",
    "            \n",
    "            _ = cv2.line(img, (stroke[0][i], stroke[1][i]),\n",
    "                         (stroke[0][i + 1], stroke[1][i + 1]), color, lw)\n",
    "    return cv2.resize(img, RE_SIZE, interpolation=cv2.INTER_AREA)"
   ]
  },
  {
   "cell_type": "code",
   "execution_count": 104,
   "metadata": {},
   "outputs": [
    {
     "name": "stdout",
     "output_type": "stream",
     "text": [
      "68000\n"
     ]
    }
   ],
   "source": [
    "#  training datapoints stacked in a list\n",
    "drawings_train = [ast.literal_eval(pts) for pts in train['drawing'].values]\n",
    "print(len(drawings_train))"
   ]
  },
  {
   "cell_type": "code",
   "execution_count": 73,
   "metadata": {},
   "outputs": [
    {
     "name": "stdout",
     "output_type": "stream",
     "text": [
      "processed 68000/68000\r"
     ]
    }
   ],
   "source": [
    "training_images = []\n",
    "i = 0\n",
    "for stroke in drawings_train:\n",
    "    img = datapoints_to_img(stroke)\n",
    "    training_images.append(img)\n",
    "    print('processed {}/{}'.format(i+1,len(drawings_train)),end = '\\r', flush=True)\n",
    "    i+=1"
   ]
  },
  {
   "cell_type": "code",
   "execution_count": 74,
   "metadata": {},
   "outputs": [],
   "source": [
    "training_images = np.array(training_images)"
   ]
  },
  {
   "cell_type": "code",
   "execution_count": 75,
   "metadata": {},
   "outputs": [
    {
     "data": {
      "text/plain": [
       "68000"
      ]
     },
     "execution_count": 75,
     "metadata": {},
     "output_type": "execute_result"
    }
   ],
   "source": [
    "len(training_images)"
   ]
  },
  {
   "cell_type": "code",
   "execution_count": 76,
   "metadata": {},
   "outputs": [
    {
     "name": "stdout",
     "output_type": "stream",
     "text": [
      "(68000, 70, 70)\n"
     ]
    }
   ],
   "source": [
    "print(training_images.shape)"
   ]
  },
  {
   "cell_type": "code",
   "execution_count": 77,
   "metadata": {},
   "outputs": [],
   "source": [
    "np.save('training_images',training_images)\n",
    "np.save('labels',labels)"
   ]
  },
  {
   "cell_type": "code",
   "execution_count": 105,
   "metadata": {},
   "outputs": [],
   "source": [
    "x_train, x_val, y_train, y_val = train_test_split(training_images, labels, test_size=0.1, random_state=1)"
   ]
  },
  {
   "cell_type": "code",
   "execution_count": 106,
   "metadata": {},
   "outputs": [
    {
     "data": {
      "text/plain": [
       "((61200, 70, 70), (61200, 340), (6800, 70, 70), (6800, 340))"
      ]
     },
     "execution_count": 106,
     "metadata": {},
     "output_type": "execute_result"
    }
   ],
   "source": [
    "x_train.shape, y_train.shape, x_val.shape, y_val.shape"
   ]
  },
  {
   "cell_type": "code",
   "execution_count": 107,
   "metadata": {},
   "outputs": [
    {
     "data": {
      "text/plain": [
       "<matplotlib.image.AxesImage at 0x7f8b7c56d7f0>"
      ]
     },
     "execution_count": 107,
     "metadata": {},
     "output_type": "execute_result"
    },
    {
     "data": {
      "image/png": "[encoded data removed]",
      "text/plain": [
       "<Figure size 432x288 with 1 Axes>"
      ]
     },
     "metadata": {
      "needs_background": "light"
     },
     "output_type": "display_data"
    }
   ],
   "source": [
    "this = 500\n",
    "plt.imshow(x_train[this], cmap='gray')"
   ]
  },
  {
   "cell_type": "code",
   "execution_count": 108,
   "metadata": {},
   "outputs": [
    {
     "data": {
      "text/plain": [
       "<matplotlib.image.AxesImage at 0x7f8a562a27b8>"
      ]
     },
     "execution_count": 108,
     "metadata": {},
     "output_type": "execute_result"
    },
    {
     "data": {
      "image/png": "[encoded data removed]",
      "text/plain": [
       "<Figure size 432x288 with 1 Axes>"
      ]
     },
     "metadata": {
      "needs_background": "light"
     },
     "output_type": "display_data"
    }
   ],
   "source": [
    "this = 1200\n",
    "plt.imshow(x_val[this], cmap='gray')"
   ]
  },
  {
   "cell_type": "code",
   "execution_count": 109,
   "metadata": {},
   "outputs": [
    {
     "name": "stdout",
     "output_type": "stream",
     "text": [
      "(70, 70, 1)\n"
     ]
    }
   ],
   "source": [
    "img_rows = 70\n",
    "img_cols = 70\n",
    "\n",
    "if K.image_data_format() == 'channels_first':\n",
    "    x_train = x_train.reshape(x_train.shape[0], 1, img_rows, img_cols)\n",
    "    x_val = x_val.reshape(x_val.shape[0], 1, img_rows, img_cols)\n",
    "    input_shape = (1, img_rows, img_cols)\n",
    "else:\n",
    "    x_train = x_train.reshape(x_train.shape[0], img_rows, img_cols, 1)\n",
    "    x_val = x_val.reshape(x_val.shape[0], img_rows, img_cols, 1)\n",
    "input_shape = (img_rows, img_cols, 1)\n",
    "print(input_shape)"
   ]
  },
  {
   "cell_type": "code",
   "execution_count": 110,
   "metadata": {},
   "outputs": [],
   "source": [
    "x_train = x_train.astype('float32')\n",
    "x_val = x_val.astype('float32')\n",
    "x_train /= 255\n",
    "x_val /= 255"
   ]
  },
  {
   "cell_type": "code",
   "execution_count": 111,
   "metadata": {},
   "outputs": [
    {
     "data": {
      "text/plain": [
       "((61200, 70, 70, 1), (61200, 340), (6800, 70, 70, 1), (6800, 340))"
      ]
     },
     "execution_count": 111,
     "metadata": {},
     "output_type": "execute_result"
    }
   ],
   "source": [
    "x_train.shape, y_train.shape, x_val.shape, y_val.shape"
   ]
  },
  {
   "cell_type": "code",
   "execution_count": 112,
   "metadata": {},
   "outputs": [
    {
     "name": "stdout",
     "output_type": "stream",
     "text": [
      "x_train shape: (61200, 70, 70, 1)\n",
      "x_val shape: (6800, 70, 70, 1)\n",
      "61200 train samples\n",
      "6800 test samples\n"
     ]
    }
   ],
   "source": [
    "print('x_train shape:', x_train.shape)\n",
    "print('x_val shape:', x_val.shape)\n",
    "\n",
    "print(x_train.shape[0], 'train samples')\n",
    "print(x_val.shape[0], 'test samples')"
   ]
  },
  {
   "cell_type": "code",
   "execution_count": 113,
   "metadata": {},
   "outputs": [],
   "source": [
    "# now feed it to the model"
   ]
  },
  {
   "cell_type": "code",
   "execution_count": 114,
   "metadata": {},
   "outputs": [
    {
     "name": "stdout",
     "output_type": "stream",
     "text": [
      "_________________________________________________________________\n",
      "Layer (type)                 Output Shape              Param #   \n",
      "=================================================================\n",
      "input_5 (InputLayer)         (None, 70, 70, 1)         0         \n",
      "_________________________________________________________________\n",
      "conv2d_23 (Conv2D)           (None, 66, 66, 8)         208       \n",
      "_________________________________________________________________\n",
      "max_pooling2d_19 (MaxPooling (None, 33, 33, 8)         0         \n",
      "_________________________________________________________________\n",
      "conv2d_24 (Conv2D)           (None, 31, 31, 16)        1168      \n",
      "_________________________________________________________________\n",
      "max_pooling2d_20 (MaxPooling (None, 15, 15, 16)        0         \n",
      "_________________________________________________________________\n",
      "conv2d_25 (Conv2D)           (None, 13, 13, 32)        4640      \n",
      "_________________________________________________________________\n",
      "max_pooling2d_21 (MaxPooling (None, 6, 6, 32)          0         \n",
      "_________________________________________________________________\n",
      "conv2d_26 (Conv2D)           (None, 6, 6, 64)          18496     \n",
      "_________________________________________________________________\n",
      "max_pooling2d_22 (MaxPooling (None, 3, 3, 64)          0         \n",
      "_________________________________________________________________\n",
      "flatten_7 (Flatten)          (None, 576)               0         \n",
      "_________________________________________________________________\n",
      "dense_11 (Dense)             (None, 64)                36928     \n",
      "_________________________________________________________________\n",
      "dense_12 (Dense)             (None, 340)               22100     \n",
      "_________________________________________________________________\n",
      "activation_4 (Activation)    (None, 340)               0         \n",
      "=================================================================\n",
      "Total params: 83,540\n",
      "Trainable params: 83,540\n",
      "Non-trainable params: 0\n",
      "_________________________________________________________________\n"
     ]
    }
   ],
   "source": [
    "def get_model():\n",
    "    \n",
    "    input_layer=Input(shape=input_shape)\n",
    "    \n",
    "    x=Conv2D(filters=8,kernel_size=(5,5),padding='valid', activation='relu')(input_layer)\n",
    "    x=MaxPool2D(pool_size=(2,2),strides=2,padding='valid')(x)\n",
    "    \n",
    "    x=Conv2D(filters=16,kernel_size=(3,3),padding='valid', activation='relu')(x)\n",
    "    x=MaxPool2D(pool_size=(2,2),strides=2,padding='valid')(x)\n",
    "    \n",
    "    x=Conv2D(filters=32,kernel_size=(3,3),padding='valid', activation='relu')(x)\n",
    "    x=MaxPool2D(pool_size=(2,2),strides=2,padding='valid')(x)\n",
    "    \n",
    "    \n",
    "    x=Conv2D(filters=64,kernel_size=(3,3),padding='same', activation='relu')(x)\n",
    "    x=MaxPool2D(pool_size=(2,2),strides=2,padding='same')(x)\n",
    "    \n",
    "    x=Flatten()(x)\n",
    "    \n",
    "    x=Dense(units=64)(x)\n",
    "    x=Dense(units=340)(x) \n",
    "    output_layer=Activation('softmax')(x)\n",
    "    \n",
    "    model=Model(inputs=input_layer,outputs=output_layer)\n",
    "    model.compile(loss='categorical_crossentropy',metrics=['accuracy'],optimizer='adam')\n",
    "    \n",
    "    return model\n",
    "\n",
    "model=get_model()\n",
    "model.summary()"
   ]
  },
  {
   "cell_type": "code",
   "execution_count": 115,
   "metadata": {},
   "outputs": [
    {
     "name": "stdout",
     "output_type": "stream",
     "text": [
      "(61200, 70, 70, 1) (61200, 340) (6800, 70, 70, 1) (6800, 340)\n"
     ]
    }
   ],
   "source": [
    "print(x_train.shape, y_train.shape, x_val.shape, y_val.shape)"
   ]
  },
  {
   "cell_type": "code",
   "execution_count": 95,
   "metadata": {},
   "outputs": [],
   "source": [
    "#https://github.com/tajwarabraraleef/kaggle-quickdraw/blob/master/temp/read.py"
   ]
  },
  {
   "cell_type": "code",
   "execution_count": 116,
   "metadata": {},
   "outputs": [
    {
     "name": "stdout",
     "output_type": "stream",
     "text": [
      "Train on 61200 samples, validate on 6800 samples\n",
      "Epoch 1/20\n",
      "61200/61200 [==============================] - 204s 3ms/step - loss: 4.4613 - acc: 0.1318 - val_loss: 3.5825 - val_acc: 0.2424\n",
      "Epoch 2/20\n",
      "61200/61200 [==============================] - 200s 3ms/step - loss: 3.2389 - acc: 0.3004 - val_loss: 3.0867 - val_acc: 0.3234\n",
      "Epoch 3/20\n",
      "61200/61200 [==============================] - 203s 3ms/step - loss: 2.8580 - acc: 0.3645 - val_loss: 2.8666 - val_acc: 0.3640\n",
      "Epoch 4/20\n",
      "61200/61200 [==============================] - 225s 4ms/step - loss: 2.6418 - acc: 0.4028 - val_loss: 2.7694 - val_acc: 0.3816\n",
      "Epoch 5/20\n",
      "61200/61200 [==============================] - 210s 3ms/step - loss: 2.4817 - acc: 0.4337 - val_loss: 2.7008 - val_acc: 0.3929\n",
      "Epoch 6/20\n",
      "61200/61200 [==============================] - 217s 4ms/step - loss: 2.3649 - acc: 0.4538 - val_loss: 2.6472 - val_acc: 0.4051\n",
      "Epoch 7/20\n",
      "61200/61200 [==============================] - 216s 4ms/step - loss: 2.2729 - acc: 0.4719 - val_loss: 2.6331 - val_acc: 0.4044\n",
      "Epoch 8/20\n",
      "61200/61200 [==============================] - 206s 3ms/step - loss: 2.1943 - acc: 0.4869 - val_loss: 2.6237 - val_acc: 0.4063\n",
      "Epoch 9/20\n",
      "61200/61200 [==============================] - 214s 4ms/step - loss: 2.1328 - acc: 0.4964 - val_loss: 2.6069 - val_acc: 0.4216\n",
      "Epoch 10/20\n",
      "61200/61200 [==============================] - 213s 3ms/step - loss: 2.0726 - acc: 0.5090 - val_loss: 2.6129 - val_acc: 0.4150\n",
      "Epoch 11/20\n",
      "61200/61200 [==============================] - 205s 3ms/step - loss: 2.0212 - acc: 0.5199 - val_loss: 2.5943 - val_acc: 0.4175\n",
      "Epoch 12/20\n",
      "61200/61200 [==============================] - 206s 3ms/step - loss: 1.9718 - acc: 0.5274 - val_loss: 2.6189 - val_acc: 0.4168\n",
      "Epoch 13/20\n",
      "61200/61200 [==============================] - 192s 3ms/step - loss: 1.9315 - acc: 0.5365 - val_loss: 2.6340 - val_acc: 0.4146\n",
      "Epoch 14/20\n",
      "61200/61200 [==============================] - 215s 4ms/step - loss: 1.8956 - acc: 0.5433 - val_loss: 2.6126 - val_acc: 0.4235\n",
      "Epoch 15/20\n",
      "61200/61200 [==============================] - 191s 3ms/step - loss: 1.8622 - acc: 0.5491 - val_loss: 2.6556 - val_acc: 0.4153\n",
      "Epoch 16/20\n",
      "61200/61200 [==============================] - 201s 3ms/step - loss: 1.8252 - acc: 0.5577 - val_loss: 2.6485 - val_acc: 0.4204\n",
      "Epoch 17/20\n",
      "61200/61200 [==============================] - 192s 3ms/step - loss: 1.7947 - acc: 0.5632 - val_loss: 2.6954 - val_acc: 0.4200\n",
      "Epoch 18/20\n",
      "61200/61200 [==============================] - 206s 3ms/step - loss: 1.7713 - acc: 0.5665 - val_loss: 2.7109 - val_acc: 0.4144\n",
      "Epoch 19/20\n",
      "61200/61200 [==============================] - 208s 3ms/step - loss: 1.7404 - acc: 0.5728 - val_loss: 2.7131 - val_acc: 0.4228\n",
      "Epoch 20/20\n",
      "61200/61200 [==============================] - 192s 3ms/step - loss: 1.7184 - acc: 0.5779 - val_loss: 2.7224 - val_acc: 0.4156\n"
     ]
    }
   ],
   "source": [
    "path_model='google_quickdraw.h5' \n",
    "model=get_model() \n",
    "K.set_value(model.optimizer.lr,1e-3) # set the learning rate\n",
    "\n",
    "h=model.fit(x=x_train,     \n",
    "            y=y_train, \n",
    "            batch_size=64,\n",
    "            epochs=20,\n",
    "            verbose=1, \n",
    "            validation_data=(x_val,y_val),\n",
    "            shuffle=True,\n",
    "            callbacks=[\n",
    "                ModelCheckpoint(filepath=path_model),\n",
    "            ]\n",
    "            )"
   ]
  },
  {
   "cell_type": "code",
   "execution_count": 118,
   "metadata": {},
   "outputs": [
    {
     "name": "stdout",
     "output_type": "stream",
     "text": [
      "112199\n"
     ]
    }
   ],
   "source": [
    "test = pd.read_csv(TEST_PATH, usecols=[0, 2], nrows=None) # was 100 before\n",
    "print(len(test))"
   ]
  },
  {
   "cell_type": "code",
   "execution_count": 119,
   "metadata": {},
   "outputs": [
    {
     "data": {
      "text/plain": [
       "112199"
      ]
     },
     "execution_count": 119,
     "metadata": {},
     "output_type": "execute_result"
    }
   ],
   "source": [
    "#  testing datapoints stacked in a list\n",
    "drawings_test = [ast.literal_eval(pts) for pts in test['drawing'].values]\n",
    "len(drawings_test)"
   ]
  },
  {
   "cell_type": "code",
   "execution_count": 133,
   "metadata": {},
   "outputs": [
    {
     "name": "stdout",
     "output_type": "stream",
     "text": [
      "processed 112199/112199\r"
     ]
    }
   ],
   "source": [
    "testing_images = []\n",
    "i = 0\n",
    "for stroke in drawings_test:\n",
    "    img = datapoints_to_img(stroke)\n",
    "    testing_images.append(img)\n",
    "    print('processed {}/{}'.format(i+1,len(drawings_test)),end = '\\r', flush=True)\n",
    "    i+=1"
   ]
  },
  {
   "cell_type": "code",
   "execution_count": 134,
   "metadata": {},
   "outputs": [
    {
     "data": {
      "text/plain": [
       "112199"
      ]
     },
     "execution_count": 134,
     "metadata": {},
     "output_type": "execute_result"
    }
   ],
   "source": [
    "len(testing_images)"
   ]
  },
  {
   "cell_type": "code",
   "execution_count": 135,
   "metadata": {},
   "outputs": [],
   "source": [
    "testing_images = np.array(testing_images)"
   ]
  },
  {
   "cell_type": "code",
   "execution_count": 136,
   "metadata": {},
   "outputs": [],
   "source": [
    "np.save('testing_images',testing_images)"
   ]
  },
  {
   "cell_type": "code",
   "execution_count": 137,
   "metadata": {},
   "outputs": [],
   "source": [
    "if K.image_data_format() == 'channels_first':\n",
    "    testing_images = testing_images.reshape(testing_images.shape[0], 1, img_rows, img_cols)\n",
    "    input_shape = (1, img_rows, img_cols)\n",
    "else:\n",
    "    testing_images = testing_images.reshape(testing_images.shape[0], img_rows, img_cols, 1)\n",
    "input_shape = (img_rows, img_cols, 1)"
   ]
  },
  {
   "cell_type": "code",
   "execution_count": 138,
   "metadata": {},
   "outputs": [],
   "source": [
    "testing_images = testing_images.astype('float32')"
   ]
  },
  {
   "cell_type": "code",
   "execution_count": 139,
   "metadata": {},
   "outputs": [
    {
     "data": {
      "text/plain": [
       "(112199, 70, 70, 1)"
      ]
     },
     "execution_count": 139,
     "metadata": {},
     "output_type": "execute_result"
    }
   ],
   "source": [
    "testing_images.shape"
   ]
  },
  {
   "cell_type": "code",
   "execution_count": 140,
   "metadata": {},
   "outputs": [],
   "source": [
    "predictions = model.predict(testing_images)"
   ]
  },
  {
   "cell_type": "code",
   "execution_count": 146,
   "metadata": {},
   "outputs": [
    {
     "name": "stdout",
     "output_type": "stream",
     "text": [
      "112199\n"
     ]
    }
   ],
   "source": [
    "print(len(predictions))"
   ]
  },
  {
   "cell_type": "code",
   "execution_count": 147,
   "metadata": {},
   "outputs": [
    {
     "name": "stdout",
     "output_type": "stream",
     "text": [
      "[113 282 324]\n"
     ]
    }
   ],
   "source": [
    "x = np.argpartition(predictions[5], -3)[-3:]\n",
    "print(x)"
   ]
  },
  {
   "cell_type": "code",
   "execution_count": 150,
   "metadata": {},
   "outputs": [],
   "source": [
    "top_3_predictions = np.asarray([np.argpartition(pred, -3)[-3:] for pred in predictions])\n",
    "top_3_predictions = ['%s %s %s' % (n_classes[pred[0]], n_classes[pred[1]], n_classes[pred[2]]) for pred in top_3_predictions]\n",
    "test['word'] = top_3_predictions"
   ]
  },
  {
   "cell_type": "code",
   "execution_count": 151,
   "metadata": {},
   "outputs": [
    {
     "data": {
      "text/plain": [
       "112199"
      ]
     },
     "execution_count": 151,
     "metadata": {},
     "output_type": "execute_result"
    }
   ],
   "source": [
    "len(top_3_predictions)"
   ]
  },
  {
   "cell_type": "code",
   "execution_count": 153,
   "metadata": {},
   "outputs": [
    {
     "name": "stdout",
     "output_type": "stream",
     "text": [
      "streetlight hedgehog rake\n"
     ]
    }
   ],
   "source": [
    "print(top_3_predictions[101000])"
   ]
  },
  {
   "cell_type": "code",
   "execution_count": 154,
   "metadata": {},
   "outputs": [
    {
     "data": {
      "text/html": [
       "<div>\n",
       "<style scoped>\n",
       "    .dataframe tbody tr th:only-of-type {\n",
       "        vertical-align: middle;\n",
       "    }\n",
       "\n",
       "    .dataframe tbody tr th {\n",
       "        vertical-align: top;\n",
       "    }\n",
       "\n",
       "    .dataframe thead th {\n",
       "        text-align: right;\n",
       "    }\n",
       "</style>\n",
       "<table border=\"1\" class=\"dataframe\">\n",
       "  <thead>\n",
       "    <tr style=\"text-align: right;\">\n",
       "      <th></th>\n",
       "      <th>key_id</th>\n",
       "      <th>word</th>\n",
       "    </tr>\n",
       "  </thead>\n",
       "  <tbody>\n",
       "    <tr>\n",
       "      <th>0</th>\n",
       "      <td>9000003627287624</td>\n",
       "      <td>streetlight bench knee</td>\n",
       "    </tr>\n",
       "    <tr>\n",
       "      <th>1</th>\n",
       "      <td>9000010688666847</td>\n",
       "      <td>streetlight bench basketball</td>\n",
       "    </tr>\n",
       "    <tr>\n",
       "      <th>2</th>\n",
       "      <td>9000023642890129</td>\n",
       "      <td>bench ice_cream church</td>\n",
       "    </tr>\n",
       "    <tr>\n",
       "      <th>3</th>\n",
       "      <td>9000038588854897</td>\n",
       "      <td>streetlight wine_bottle van</td>\n",
       "    </tr>\n",
       "    <tr>\n",
       "      <th>4</th>\n",
       "      <td>9000052667981386</td>\n",
       "      <td>line bench asparagus</td>\n",
       "    </tr>\n",
       "  </tbody>\n",
       "</table>\n",
       "</div>"
      ],
      "text/plain": [
       "             key_id                          word\n",
       "0  9000003627287624        streetlight bench knee\n",
       "1  9000010688666847  streetlight bench basketball\n",
       "2  9000023642890129        bench ice_cream church\n",
       "3  9000038588854897   streetlight wine_bottle van\n",
       "4  9000052667981386          line bench asparagus"
      ]
     },
     "execution_count": 154,
     "metadata": {},
     "output_type": "execute_result"
    }
   ],
   "source": [
    "submission = test[['key_id', 'word']]\n",
    "submission.to_csv(SUBMISSION_NAME, index=False)\n",
    "submission.head()"
   ]
  },
  {
   "cell_type": "code",
   "execution_count": null,
   "metadata": {},
   "outputs": [],
   "source": []
  }
 ],
 "metadata": {
  "kernelspec": {
   "display_name": "Python 3",
   "language": "python",
   "name": "python3"
  },
  "language_info": {
   "codemirror_mode": {
    "name": "ipython",
    "version": 3
   },
   "file_extension": ".py",
   "mimetype": "text/x-python",
   "name": "python",
   "nbconvert_exporter": "python",
   "pygments_lexer": "ipython3",
   "version": "3.6.6"
  }
 },
 "nbformat": 4,
 "nbformat_minor": 2
}
