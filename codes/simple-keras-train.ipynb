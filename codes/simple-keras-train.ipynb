{
 "cells": [
  {
   "cell_type": "code",
   "execution_count": 9,
   "metadata": {},
   "outputs": [
    {
     "name": "stdout",
     "output_type": "stream",
     "text": [
      "['test_simplified.csv', 'train_simplified.zip', 'train_simplified']\n"
     ]
    }
   ],
   "source": [
    "import os\n",
    "import ast\n",
    "import cv2\n",
    "import numpy as np\n",
    "import pandas as pd\n",
    "import seaborn as sns\n",
    "import matplotlib.pyplot as plt\n",
    "\n",
    "from sklearn.utils import shuffle\n",
    "from sklearn.model_selection import train_test_split\n",
    "\n",
    "import keras\n",
    "from keras import optimizers\n",
    "from keras.utils import np_utils\n",
    "from keras.models import Model, Sequential\n",
    "from keras.callbacks import ModelCheckpoint\n",
    "from keras.layers import Dense, Input, Dropout, Flatten, Conv2D, MaxPool2D, Activation, BatchNormalization\n",
    "from keras.models import Sequential\n",
    "from keras import backend as K\n",
    "\n",
    "print(os.listdir(\"data\"))"
   ]
  },
  {
   "cell_type": "code",
   "execution_count": 15,
   "metadata": {},
   "outputs": [],
   "source": [
    "TRAIN_PATH = \"data/train_simplified/\"\n",
    "TEST_PATH = \"data/test_simplified.csv\"\n",
    "SUBMISSION_NAME = 'submission.csv'"
   ]
  },
  {
   "cell_type": "code",
   "execution_count": 35,
   "metadata": {},
   "outputs": [],
   "source": [
    "train = pd.DataFrame()\n",
    "\n",
    "for file in os.listdir(TRAIN_PATH):\n",
    "    train = train.append(pd.read_csv(TRAIN_PATH + file, usecols = [1, 5], nrows = 1000))\n",
    "train = shuffle(train, random_state=123)  "
   ]
  },
  {
   "cell_type": "code",
   "execution_count": 36,
   "metadata": {},
   "outputs": [
    {
     "data": {
      "text/plain": [
       "340000"
      ]
     },
     "execution_count": 36,
     "metadata": {},
     "output_type": "execute_result"
    }
   ],
   "source": [
    "len(train)"
   ]
  },
  {
   "cell_type": "code",
   "execution_count": 38,
   "metadata": {},
   "outputs": [
    {
     "name": "stdout",
     "output_type": "stream",
     "text": [
      "['laptop' 'belt' 'leg' 'mug' 'flower' 'school bus' 'snorkel' 'hospital'\n",
      " 'beard' 'teapot' 'airplane' 'hockey stick' 'basket' 'campfire' 'wheel'\n",
      " 'bracelet' 'lightning' 'banana' 'stitches' 'spoon' 'hat' 'ear'\n",
      " 'hourglass' 'lantern' 'triangle' 'sock' 'cannon' 'diving board' 'octagon'\n",
      " 'flamingo' 'candle' 'scissors' 'mushroom' 'tornado' 'pencil' 'owl'\n",
      " 'train' 'screwdriver' 'arm' 'saxophone' 'mountain' 'frog' 'bicycle'\n",
      " 'elbow' 'teddy-bear' 'blackberry' 'palm tree' 'giraffe' 'keyboard'\n",
      " 'rollerskates' 'light bulb' 'apple' 'flashlight' 'elephant' 'nose'\n",
      " 'lipstick' 'paint can' 'steak' 'traffic light' 'toe' 'saw' 'tent' 'cake'\n",
      " 'mermaid' 'garden hose' 'bucket' 'stethoscope' 'bear' 'hedgehog'\n",
      " 'underwear' 'eraser' 'fire hydrant' 'bread' 'ice cream' 'squirrel'\n",
      " 'anvil' 'bush' 'bird' 'squiggle' 'mouth' 'toothpaste' 'suitcase'\n",
      " 'soccer ball' 'parrot' 'frying pan' 'envelope' 'house plant' 'broccoli'\n",
      " 'mosquito' 'television' 'knee' 'grapes' 'golf club' 'tractor' 'purse'\n",
      " 'diamond' 'cow' 'telephone' 'fork' 'helmet' 'The Great Wall of China'\n",
      " 'bottlecap' 'leaf' 'square' 'necklace' 'vase' 'ambulance' 'swing set'\n",
      " 'flip flops' 'star' 'sheep' 'sailboat' 'computer' 'castle' 'scorpion'\n",
      " 'marker' 'alarm clock' 'wine glass' 'remote control' 'pliers'\n",
      " 'microphone' 'bench' 'swan' 'animal migration' 'submarine' 'whale' 'map'\n",
      " 'cactus' 'peanut' 'peas' 'stove' 'penguin' 'zebra' 'sea turtle' 'rake'\n",
      " 'cello' 'cell phone' 'see saw' 'washing machine' 'raccoon' 'camouflage'\n",
      " 'tennis racquet' 'yoga' 'ant' 'dragon' 'headphones' 'duck' 'waterslide'\n",
      " 'shovel' 'violin' 'hexagon' 'tree' 'snail' 'kangaroo' 'snowflake'\n",
      " 'guitar' 'door' 'crab' 'ocean' 'birthday cake' 'dolphin' 'crayon'\n",
      " 'cookie' 'motorbike' 'The Eiffel Tower' 'paintbrush' 'cloud' 'eye'\n",
      " 'tiger' 'truck' 'fireplace' 'lollipop' 'potato' 'blueberry' 'toothbrush'\n",
      " 'feather' 'dishwasher' 'pond' 'garden' 'shoe' 'pig' 'nail' 'camera'\n",
      " 'spider' 'baseball bat' 'calculator' 'binoculars' 'bulldozer' 'hurricane'\n",
      " 'table' 'fish' 'clock' 'panda' 'horse' 'paper clip' 'rhinoceros'\n",
      " 'calendar' 'dog' 'sun' 'key' 'sandwich' 'crocodile' 'helicopter'\n",
      " 'speedboat' 'power outlet' 'crown' 'spreadsheet' 'onion' 'snake' 'hammer'\n",
      " 'rainbow' 'sword' 'asparagus' 'cup' 'rabbit' 'streetlight' 'goatee'\n",
      " 'sweater' 'hot air balloon' 'floor lamp' 'hamburger' 'trombone'\n",
      " 'coffee cup' 'butterfly' 'fence' 'eyeglasses' 'shark' 'hand' 'pizza'\n",
      " 'bandage' 'wristwatch' 'foot' 'postcard' 'pear' 'toaster' 'dresser' 'bed'\n",
      " 'sink' 'stop sign' 'sleeping bag' 'lobster' 'axe' 'canoe' 'tooth'\n",
      " 'skateboard' 'pickup truck' 'chandelier' 'monkey' 'skyscraper' 'drums'\n",
      " 'pillow' 'circle' 'ceiling fan' 'church' 'barn' 'bat' 'trumpet'\n",
      " 'picture frame' 'stereo' 'zigzag' 'stairs' 'string bean' 'roller coaster'\n",
      " 'oven' 'car' 'bowtie' 'pineapple' 'smiley face' 'donut' 'camel' 'radio'\n",
      " 'chair' 'brain' 'ladder' 'parachute' 'microwave' 'matches' 'harp'\n",
      " 'bathtub' 'umbrella' 'skull' 'cat' 'passport' 'mouse' 'lion' 'drill'\n",
      " 'The Mona Lisa' 'fan' 'bus' 'popsicle' 'jail' 'toilet' 'angel' 'snowman'\n",
      " 'carrot' 'moon' 'backpack' 'watermelon' 'river' 'flying saucer' 'couch'\n",
      " 'cruise ship' 'wine bottle' 'piano' 'bee' 'shorts' 'moustache'\n",
      " 'firetruck' 'grass' 'jacket' 'pool' 'basketball' 'strawberry' 'hot dog'\n",
      " 'book' 'compass' 'house' 'clarinet' 'hot tub' 'megaphone' 'hockey puck'\n",
      " 'boomerang' 'bridge' 'beach' 'pants' 'finger' 'windmill' 'rain' 'octopus'\n",
      " 'broom' 'baseball' 'line' 'lighthouse' 'mailbox' 't-shirt' 'police car'\n",
      " 'van' 'dumbbell' 'cooler' 'face']\n"
     ]
    }
   ],
   "source": [
    "n_classes = train['word'].unique()\n",
    "print(n_classes)"
   ]
  },
  {
   "cell_type": "code",
   "execution_count": 5,
   "metadata": {},
   "outputs": [
    {
     "name": "stdout",
     "output_type": "stream",
     "text": [
      "Total number of labels: 340000\n"
     ]
    }
   ],
   "source": [
    "# fixing label in the training set\n",
    "train['word'] = train['word'].replace(' ', '_', regex=True)\n",
    "\n",
    "# get labels and one-hot encode them.\n",
    "n_classes = train['word'].unique()\n",
    "labels = pd.get_dummies(train['word']).values\n",
    "train.drop(['word'], axis=1, inplace=True)\n",
    "\n",
    "print(\"Total number of labels: \"+str(len(labels)))"
   ]
  },
  {
   "cell_type": "code",
   "execution_count": 6,
   "metadata": {},
   "outputs": [
    {
     "name": "stdout",
     "output_type": "stream",
     "text": [
      "[0 0 0 0 0 0 0 0 0 0 0 0 0 0 0 0 0 0 0 0 0 0 0 0 0 0 0 0 0 0 0 0 0 0 0 0 0\n",
      " 0 0 0 0 0 0 0 0 0 0 0 0 0 0 0 0 0 0 0 0 0 0 0 0 0 0 0 0 0 0 0 0 0 0 0 0 0\n",
      " 0 0 0 0 0 0 0 0 0 0 0 0 0 0 0 0 0 0 0 0 0 0 0 0 0 0 0 0 0 0 0 0 0 0 0 0 0\n",
      " 0 0 0 0 0 0 0 0 0 0 0 0 0 0 0 0 1 0 0 0 0 0 0 0 0 0 0 0 0 0 0 0 0 0 0 0 0\n",
      " 0 0 0 0 0 0 0 0 0 0 0 0 0 0 0 0 0 0 0 0 0 0 0 0 0 0 0 0 0 0 0 0 0 0 0 0 0\n",
      " 0 0 0 0 0 0 0 0 0 0 0 0 0 0 0 0 0 0 0 0 0 0 0 0 0 0 0 0 0 0 0 0 0 0 0 0 0\n",
      " 0 0 0 0 0 0 0 0 0 0 0 0 0 0 0 0 0 0 0 0 0 0 0 0 0 0 0 0 0 0 0 0 0 0 0 0 0\n",
      " 0 0 0 0 0 0 0 0 0 0 0 0 0 0 0 0 0 0 0 0 0 0 0 0 0 0 0 0 0 0 0 0 0 0 0 0 0\n",
      " 0 0 0 0 0 0 0 0 0 0 0 0 0 0 0 0 0 0 0 0 0 0 0 0 0 0 0 0 0 0 0 0 0 0 0 0 0\n",
      " 0 0 0 0 0 0 0]\n"
     ]
    }
   ],
   "source": [
    "print(labels[1000])"
   ]
  },
  {
   "cell_type": "code",
   "execution_count": 19,
   "metadata": {},
   "outputs": [],
   "source": [
    "BASE_SIZE = 256\n",
    "RE_SIZE = (70,70)\n",
    "\n",
    "def datapoints_to_img(raw_strokes, size=256, lw=6, time_color=True):\n",
    "    \n",
    "    img = np.zeros((BASE_SIZE, BASE_SIZE), np.uint8)\n",
    "    for t, stroke in enumerate(raw_strokes):\n",
    "        for i in range(len(stroke[0]) - 1):\n",
    "            color = 255 - min(t, 10) * 13 if time_color else 255\n",
    "            \n",
    "            _ = cv2.line(img, (stroke[0][i], stroke[1][i]),\n",
    "                         (stroke[0][i + 1], stroke[1][i + 1]), color, lw)\n",
    "    return cv2.resize(img, RE_SIZE, interpolation=cv2.INTER_AREA)"
   ]
  },
  {
   "cell_type": "code",
   "execution_count": 8,
   "metadata": {},
   "outputs": [
    {
     "name": "stdout",
     "output_type": "stream",
     "text": [
      "340000\n"
     ]
    }
   ],
   "source": [
    "#  training datapoints stacked in a list\n",
    "drawings_train = [ast.literal_eval(pts) for pts in train['drawing'].values]\n",
    "print(len(drawings_train))"
   ]
  },
  {
   "cell_type": "code",
   "execution_count": 9,
   "metadata": {},
   "outputs": [
    {
     "name": "stdout",
     "output_type": "stream",
     "text": [
      "processed 340000/340000\r"
     ]
    }
   ],
   "source": [
    "training_images = []\n",
    "i = 0\n",
    "for stroke in drawings_train:\n",
    "    img = datapoints_to_img(stroke)\n",
    "    training_images.append(img)\n",
    "    print('processed {}/{}'.format(i+1,len(drawings_train)),end = '\\r', flush=True)\n",
    "    i+=1"
   ]
  },
  {
   "cell_type": "code",
   "execution_count": 10,
   "metadata": {},
   "outputs": [],
   "source": [
    "training_images = np.array(training_images)"
   ]
  },
  {
   "cell_type": "code",
   "execution_count": 11,
   "metadata": {},
   "outputs": [
    {
     "data": {
      "text/plain": [
       "340000"
      ]
     },
     "execution_count": 11,
     "metadata": {},
     "output_type": "execute_result"
    }
   ],
   "source": [
    "len(training_images)"
   ]
  },
  {
   "cell_type": "code",
   "execution_count": 12,
   "metadata": {},
   "outputs": [
    {
     "name": "stdout",
     "output_type": "stream",
     "text": [
      "(340000, 70, 70)\n"
     ]
    }
   ],
   "source": [
    "print(training_images.shape)"
   ]
  },
  {
   "cell_type": "code",
   "execution_count": 13,
   "metadata": {},
   "outputs": [],
   "source": [
    "np.save('training_images',training_images)\n",
    "np.save('labels',labels)"
   ]
  },
  {
   "cell_type": "code",
   "execution_count": 14,
   "metadata": {},
   "outputs": [],
   "source": [
    "x_train, x_val, y_train, y_val = train_test_split(training_images, labels, test_size=0.1, random_state=1)"
   ]
  },
  {
   "cell_type": "code",
   "execution_count": 15,
   "metadata": {},
   "outputs": [
    {
     "data": {
      "text/plain": [
       "((306000, 70, 70), (306000, 340), (34000, 70, 70), (34000, 340))"
      ]
     },
     "execution_count": 15,
     "metadata": {},
     "output_type": "execute_result"
    }
   ],
   "source": [
    "x_train.shape, y_train.shape, x_val.shape, y_val.shape"
   ]
  },
  {
   "cell_type": "code",
   "execution_count": 16,
   "metadata": {},
   "outputs": [],
   "source": [
    "#save data\n",
    "np.save('x_train',x_train)\n",
    "np.save('y_train',y_train)\n",
    "np.save('x_val',x_val)\n",
    "np.save('y_val',y_val)"
   ]
  },
  {
   "cell_type": "code",
   "execution_count": 2,
   "metadata": {},
   "outputs": [],
   "source": [
    "x_train = np.load('x_train.npy')\n",
    "y_train = np.load('y_train.npy')"
   ]
  },
  {
   "cell_type": "code",
   "execution_count": 3,
   "metadata": {},
   "outputs": [],
   "source": [
    "x_val = np.load('x_val.npy')\n",
    "y_val = np.load('y_val.npy')"
   ]
  },
  {
   "cell_type": "code",
   "execution_count": 4,
   "metadata": {},
   "outputs": [
    {
     "data": {
      "text/plain": [
       "((306000, 70, 70), (306000, 340), (34000, 70, 70), (34000, 340))"
      ]
     },
     "execution_count": 4,
     "metadata": {},
     "output_type": "execute_result"
    }
   ],
   "source": [
    "x_train.shape, y_train.shape, x_val.shape, y_val.shape"
   ]
  },
  {
   "cell_type": "code",
   "execution_count": null,
   "metadata": {},
   "outputs": [],
   "source": [
    "this = 500\n",
    "plt.imshow(x_train[this], cmap='gray')"
   ]
  },
  {
   "cell_type": "code",
   "execution_count": 108,
   "metadata": {},
   "outputs": [
    {
     "data": {
      "text/plain": [
       "<matplotlib.image.AxesImage at 0x7f8a562a27b8>"
      ]
     },
     "execution_count": 108,
     "metadata": {},
     "output_type": "execute_result"
    },
    {
     "data": {
      "image/png": "[encoded data removed]",
      "text/plain": [
       "<Figure size 432x288 with 1 Axes>"
      ]
     },
     "metadata": {
      "needs_background": "light"
     },
     "output_type": "display_data"
    }
   ],
   "source": [
    "this = 1200\n",
    "plt.imshow(x_val[this], cmap='gray')"
   ]
  },
  {
   "cell_type": "code",
   "execution_count": 5,
   "metadata": {},
   "outputs": [
    {
     "name": "stdout",
     "output_type": "stream",
     "text": [
      "(70, 70, 1)\n"
     ]
    }
   ],
   "source": [
    "img_rows = 70\n",
    "img_cols = 70\n",
    "\n",
    "if K.image_data_format() == 'channels_first':\n",
    "    x_train = x_train.reshape(x_train.shape[0], 1, img_rows, img_cols)\n",
    "    x_val = x_val.reshape(x_val.shape[0], 1, img_rows, img_cols)\n",
    "    input_shape = (1, img_rows, img_cols)\n",
    "else:\n",
    "    x_train = x_train.reshape(x_train.shape[0], img_rows, img_cols, 1)\n",
    "    x_val = x_val.reshape(x_val.shape[0], img_rows, img_cols, 1)\n",
    "input_shape = (img_rows, img_cols, 1)\n",
    "print(input_shape)"
   ]
  },
  {
   "cell_type": "code",
   "execution_count": 110,
   "metadata": {},
   "outputs": [],
   "source": [
    "# convert and normalize the data\n",
    "\n",
    "x_train = x_train.astype('float32')\n",
    "x_val = x_val.astype('float32')\n",
    "x_train /= 255\n",
    "x_val /= 255"
   ]
  },
  {
   "cell_type": "code",
   "execution_count": 6,
   "metadata": {},
   "outputs": [
    {
     "data": {
      "text/plain": [
       "((306000, 70, 70, 1), (306000, 340), (34000, 70, 70, 1), (34000, 340))"
      ]
     },
     "execution_count": 6,
     "metadata": {},
     "output_type": "execute_result"
    }
   ],
   "source": [
    "x_train.shape, y_train.shape, x_val.shape, y_val.shape"
   ]
  },
  {
   "cell_type": "code",
   "execution_count": 7,
   "metadata": {},
   "outputs": [
    {
     "name": "stdout",
     "output_type": "stream",
     "text": [
      "x_train shape: (306000, 70, 70, 1)\n",
      "x_val shape: (34000, 70, 70, 1)\n",
      "306000 train samples\n",
      "34000 test samples\n"
     ]
    }
   ],
   "source": [
    "print('x_train shape:', x_train.shape)\n",
    "print('x_val shape:', x_val.shape)\n",
    "\n",
    "print(x_train.shape[0], 'train samples')\n",
    "print(x_val.shape[0], 'test samples')"
   ]
  },
  {
   "cell_type": "code",
   "execution_count": 113,
   "metadata": {},
   "outputs": [],
   "source": [
    "# now feed it to the model"
   ]
  },
  {
   "cell_type": "code",
   "execution_count": 10,
   "metadata": {},
   "outputs": [
    {
     "name": "stdout",
     "output_type": "stream",
     "text": [
      "_________________________________________________________________\n",
      "Layer (type)                 Output Shape              Param #   \n",
      "=================================================================\n",
      "input_2 (InputLayer)         (None, 70, 70, 1)         0         \n",
      "_________________________________________________________________\n",
      "conv2d_2 (Conv2D)            (None, 66, 66, 8)         208       \n",
      "_________________________________________________________________\n",
      "max_pooling2d_1 (MaxPooling2 (None, 33, 33, 8)         0         \n",
      "_________________________________________________________________\n",
      "conv2d_3 (Conv2D)            (None, 31, 31, 16)        1168      \n",
      "_________________________________________________________________\n",
      "max_pooling2d_2 (MaxPooling2 (None, 15, 15, 16)        0         \n",
      "_________________________________________________________________\n",
      "conv2d_4 (Conv2D)            (None, 13, 13, 32)        4640      \n",
      "_________________________________________________________________\n",
      "max_pooling2d_3 (MaxPooling2 (None, 6, 6, 32)          0         \n",
      "_________________________________________________________________\n",
      "conv2d_5 (Conv2D)            (None, 6, 6, 64)          18496     \n",
      "_________________________________________________________________\n",
      "max_pooling2d_4 (MaxPooling2 (None, 3, 3, 64)          0         \n",
      "_________________________________________________________________\n",
      "flatten_1 (Flatten)          (None, 576)               0         \n",
      "_________________________________________________________________\n",
      "dense_1 (Dense)              (None, 64)                36928     \n",
      "_________________________________________________________________\n",
      "dense_2 (Dense)              (None, 340)               22100     \n",
      "_________________________________________________________________\n",
      "activation_1 (Activation)    (None, 340)               0         \n",
      "=================================================================\n",
      "Total params: 83,540\n",
      "Trainable params: 83,540\n",
      "Non-trainable params: 0\n",
      "_________________________________________________________________\n"
     ]
    }
   ],
   "source": [
    "def get_model():\n",
    "    \n",
    "    input_layer=Input(shape=input_shape)\n",
    "    \n",
    "    x=Conv2D(filters=8,kernel_size=(5,5),padding='valid', activation='relu')(input_layer)\n",
    "    x=MaxPool2D(pool_size=(2,2),strides=2,padding='valid')(x)\n",
    "    \n",
    "    x=Conv2D(filters=16,kernel_size=(3,3),padding='valid', activation='relu')(x)\n",
    "    x=MaxPool2D(pool_size=(2,2),strides=2,padding='valid')(x)\n",
    "    \n",
    "    x=Conv2D(filters=32,kernel_size=(3,3),padding='valid', activation='relu')(x)\n",
    "    x=MaxPool2D(pool_size=(2,2),strides=2,padding='valid')(x)\n",
    "    \n",
    "    \n",
    "    x=Conv2D(filters=64,kernel_size=(3,3),padding='same', activation='relu')(x)\n",
    "    x=MaxPool2D(pool_size=(2,2),strides=2,padding='same')(x)\n",
    "    \n",
    "    x=Flatten()(x)\n",
    "    \n",
    "    x=Dense(units=64)(x)\n",
    "    x=Dense(units=340)(x) \n",
    "    output_layer=Activation('softmax')(x)\n",
    "    \n",
    "    model=Model(inputs=input_layer,outputs=output_layer)\n",
    "    model.compile(loss='categorical_crossentropy',metrics=['accuracy'],optimizer='adam')\n",
    "    \n",
    "    return model\n",
    "\n",
    "model=get_model()\n",
    "model.summary()"
   ]
  },
  {
   "cell_type": "code",
   "execution_count": 11,
   "metadata": {},
   "outputs": [
    {
     "name": "stdout",
     "output_type": "stream",
     "text": [
      "(306000, 70, 70, 1) (306000, 340) (34000, 70, 70, 1) (34000, 340)\n"
     ]
    }
   ],
   "source": [
    "print(x_train.shape, y_train.shape, x_val.shape, y_val.shape)"
   ]
  },
  {
   "cell_type": "code",
   "execution_count": 12,
   "metadata": {},
   "outputs": [],
   "source": [
    "#https://github.com/tajwarabraraleef/kaggle-quickdraw/blob/master/temp/read.py"
   ]
  },
  {
   "cell_type": "code",
   "execution_count": 13,
   "metadata": {},
   "outputs": [
    {
     "name": "stdout",
     "output_type": "stream",
     "text": [
      "Train on 306000 samples, validate on 34000 samples\n",
      "Epoch 1/20\n",
      "306000/306000 [==============================] - 933s 3ms/step - loss: 3.3216 - acc: 0.3002 - val_loss: 2.6002 - val_acc: 0.4111\n",
      "Epoch 2/20\n",
      "306000/306000 [==============================] - 920s 3ms/step - loss: 2.4413 - acc: 0.4415 - val_loss: 2.3698 - val_acc: 0.4546\n",
      "Epoch 3/20\n",
      "306000/306000 [==============================] - 924s 3ms/step - loss: 2.2686 - acc: 0.4754 - val_loss: 2.3080 - val_acc: 0.4696\n",
      "Epoch 4/20\n",
      "306000/306000 [==============================] - 914s 3ms/step - loss: 2.1851 - acc: 0.4909 - val_loss: 2.2331 - val_acc: 0.4829\n",
      "Epoch 5/20\n",
      "306000/306000 [==============================] - 923s 3ms/step - loss: 2.1345 - acc: 0.5018 - val_loss: 2.1984 - val_acc: 0.4912\n",
      "Epoch 6/20\n",
      "306000/306000 [==============================] - 924s 3ms/step - loss: 2.0988 - acc: 0.5085 - val_loss: 2.1733 - val_acc: 0.4961\n",
      "Epoch 7/20\n",
      "306000/306000 [==============================] - 922s 3ms/step - loss: 2.0741 - acc: 0.5130 - val_loss: 2.1489 - val_acc: 0.4991\n",
      "Epoch 8/20\n",
      "306000/306000 [==============================] - 922s 3ms/step - loss: 2.0512 - acc: 0.5174 - val_loss: 2.1635 - val_acc: 0.4974\n",
      "Epoch 9/20\n",
      "306000/306000 [==============================] - 926s 3ms/step - loss: 2.0354 - acc: 0.5205 - val_loss: 2.1242 - val_acc: 0.5086\n",
      "Epoch 10/20\n",
      "306000/306000 [==============================] - 928s 3ms/step - loss: 2.0198 - acc: 0.5249 - val_loss: 2.1561 - val_acc: 0.5000\n",
      "Epoch 11/20\n",
      "306000/306000 [==============================] - 921s 3ms/step - loss: 2.0120 - acc: 0.5256 - val_loss: 2.1254 - val_acc: 0.5087\n",
      "Epoch 12/20\n",
      "306000/306000 [==============================] - 923s 3ms/step - loss: 2.0031 - acc: 0.5282 - val_loss: 2.1169 - val_acc: 0.5061\n",
      "Epoch 13/20\n",
      "306000/306000 [==============================] - 925s 3ms/step - loss: 1.9952 - acc: 0.5290 - val_loss: 2.1606 - val_acc: 0.4988\n",
      "Epoch 14/20\n",
      "306000/306000 [==============================] - 922s 3ms/step - loss: 1.9892 - acc: 0.5300 - val_loss: 2.1265 - val_acc: 0.5077\n",
      "Epoch 15/20\n",
      "306000/306000 [==============================] - 932s 3ms/step - loss: 1.9841 - acc: 0.5312 - val_loss: 2.1265 - val_acc: 0.5118\n",
      "Epoch 16/20\n",
      "306000/306000 [==============================] - 927s 3ms/step - loss: 1.9765 - acc: 0.5334 - val_loss: 2.1198 - val_acc: 0.5126\n",
      "Epoch 17/20\n",
      "306000/306000 [==============================] - 929s 3ms/step - loss: 1.9724 - acc: 0.5337 - val_loss: 2.1550 - val_acc: 0.4990\n",
      "Epoch 18/20\n",
      "306000/306000 [==============================] - 939s 3ms/step - loss: 1.9701 - acc: 0.5342 - val_loss: 2.1233 - val_acc: 0.5101\n",
      "Epoch 19/20\n",
      "306000/306000 [==============================] - 931s 3ms/step - loss: 1.9648 - acc: 0.5352 - val_loss: 2.1263 - val_acc: 0.5104\n",
      "Epoch 20/20\n",
      "306000/306000 [==============================] - 927s 3ms/step - loss: 1.9614 - acc: 0.5358 - val_loss: 2.1025 - val_acc: 0.5164\n"
     ]
    }
   ],
   "source": [
    "path_model='google_quickdraw.h5' \n",
    "model=get_model() \n",
    "K.set_value(model.optimizer.lr,1e-3) # set the learning rate\n",
    "\n",
    "h=model.fit(x=x_train,     \n",
    "            y=y_train, \n",
    "            batch_size=64,\n",
    "            epochs=20,\n",
    "            verbose=1, \n",
    "            validation_data=(x_val,y_val),\n",
    "            shuffle=True,\n",
    "            callbacks=[\n",
    "                ModelCheckpoint(filepath=path_model),\n",
    "            ]\n",
    "            )"
   ]
  },
  {
   "cell_type": "code",
   "execution_count": 16,
   "metadata": {},
   "outputs": [
    {
     "name": "stdout",
     "output_type": "stream",
     "text": [
      "112199\n"
     ]
    }
   ],
   "source": [
    "test = pd.read_csv(TEST_PATH, usecols=[0, 2], nrows=None) # was 100 before\n",
    "print(len(test))"
   ]
  },
  {
   "cell_type": "code",
   "execution_count": 17,
   "metadata": {},
   "outputs": [
    {
     "data": {
      "text/plain": [
       "112199"
      ]
     },
     "execution_count": 17,
     "metadata": {},
     "output_type": "execute_result"
    }
   ],
   "source": [
    "#  testing datapoints stacked in a list\n",
    "drawings_test = [ast.literal_eval(pts) for pts in test['drawing'].values]\n",
    "len(drawings_test)"
   ]
  },
  {
   "cell_type": "code",
   "execution_count": 20,
   "metadata": {},
   "outputs": [
    {
     "name": "stdout",
     "output_type": "stream",
     "text": [
      "processed 112199/112199\r"
     ]
    }
   ],
   "source": [
    "testing_images = []\n",
    "i = 0\n",
    "for stroke in drawings_test:\n",
    "    img = datapoints_to_img(stroke)\n",
    "    testing_images.append(img)\n",
    "    print('processed {}/{}'.format(i+1,len(drawings_test)),end = '\\r', flush=True)\n",
    "    i+=1"
   ]
  },
  {
   "cell_type": "code",
   "execution_count": 21,
   "metadata": {},
   "outputs": [
    {
     "data": {
      "text/plain": [
       "112199"
      ]
     },
     "execution_count": 21,
     "metadata": {},
     "output_type": "execute_result"
    }
   ],
   "source": [
    "len(testing_images)"
   ]
  },
  {
   "cell_type": "code",
   "execution_count": 22,
   "metadata": {},
   "outputs": [],
   "source": [
    "testing_images = np.array(testing_images)"
   ]
  },
  {
   "cell_type": "code",
   "execution_count": 25,
   "metadata": {},
   "outputs": [],
   "source": [
    "if K.image_data_format() == 'channels_first':\n",
    "    testing_images = testing_images.reshape(testing_images.shape[0], 1, img_rows, img_cols)\n",
    "    input_shape = (1, img_rows, img_cols)\n",
    "else:\n",
    "    testing_images = testing_images.reshape(testing_images.shape[0], img_rows, img_cols, 1)\n",
    "input_shape = (img_rows, img_cols, 1)"
   ]
  },
  {
   "cell_type": "code",
   "execution_count": 26,
   "metadata": {},
   "outputs": [],
   "source": [
    "testing_images = testing_images.astype('float32')"
   ]
  },
  {
   "cell_type": "code",
   "execution_count": 27,
   "metadata": {},
   "outputs": [
    {
     "data": {
      "text/plain": [
       "(112199, 70, 70, 1)"
      ]
     },
     "execution_count": 27,
     "metadata": {},
     "output_type": "execute_result"
    }
   ],
   "source": [
    "testing_images.shape"
   ]
  },
  {
   "cell_type": "code",
   "execution_count": 28,
   "metadata": {},
   "outputs": [],
   "source": [
    "np.save('testing_images',testing_images)"
   ]
  },
  {
   "cell_type": "code",
   "execution_count": 29,
   "metadata": {},
   "outputs": [],
   "source": [
    "predictions = model.predict(testing_images)"
   ]
  },
  {
   "cell_type": "code",
   "execution_count": 30,
   "metadata": {},
   "outputs": [
    {
     "name": "stdout",
     "output_type": "stream",
     "text": [
      "112199\n"
     ]
    }
   ],
   "source": [
    "print(len(predictions))"
   ]
  },
  {
   "cell_type": "code",
   "execution_count": 32,
   "metadata": {},
   "outputs": [
    {
     "name": "stdout",
     "output_type": "stream",
     "text": [
      "[322  48 182]\n"
     ]
    }
   ],
   "source": [
    "x = np.argpartition(predictions[500], -3)[-3:]\n",
    "print(x)"
   ]
  },
  {
   "cell_type": "code",
   "execution_count": 39,
   "metadata": {},
   "outputs": [],
   "source": [
    "top_3_predictions = np.asarray([np.argpartition(pred, -3)[-3:] for pred in predictions])\n",
    "top_3_predictions = ['%s %s %s' % (n_classes[pred[0]], n_classes[pred[1]], n_classes[pred[2]]) for pred in top_3_predictions]\n",
    "test['word'] = top_3_predictions"
   ]
  },
  {
   "cell_type": "code",
   "execution_count": 40,
   "metadata": {},
   "outputs": [
    {
     "data": {
      "text/plain": [
       "112199"
      ]
     },
     "execution_count": 40,
     "metadata": {},
     "output_type": "execute_result"
    }
   ],
   "source": [
    "len(top_3_predictions)"
   ]
  },
  {
   "cell_type": "code",
   "execution_count": 42,
   "metadata": {},
   "outputs": [
    {
     "name": "stdout",
     "output_type": "stream",
     "text": [
      "eyeglasses screwdriver bicycle\n"
     ]
    }
   ],
   "source": [
    "print(top_3_predictions[102000])"
   ]
  },
  {
   "cell_type": "code",
   "execution_count": 43,
   "metadata": {},
   "outputs": [
    {
     "data": {
      "text/html": [
       "<div>\n",
       "<style scoped>\n",
       "    .dataframe tbody tr th:only-of-type {\n",
       "        vertical-align: middle;\n",
       "    }\n",
       "\n",
       "    .dataframe tbody tr th {\n",
       "        vertical-align: top;\n",
       "    }\n",
       "\n",
       "    .dataframe thead th {\n",
       "        text-align: right;\n",
       "    }\n",
       "</style>\n",
       "<table border=\"1\" class=\"dataframe\">\n",
       "  <thead>\n",
       "    <tr style=\"text-align: right;\">\n",
       "      <th></th>\n",
       "      <th>key_id</th>\n",
       "      <th>word</th>\n",
       "    </tr>\n",
       "  </thead>\n",
       "  <tbody>\n",
       "    <tr>\n",
       "      <th>0</th>\n",
       "      <td>9000003627287624</td>\n",
       "      <td>compass clarinet sink</td>\n",
       "    </tr>\n",
       "    <tr>\n",
       "      <th>1</th>\n",
       "      <td>9000010688666847</td>\n",
       "      <td>soccer ball saxophone waterslide</td>\n",
       "    </tr>\n",
       "    <tr>\n",
       "      <th>2</th>\n",
       "      <td>9000023642890129</td>\n",
       "      <td>bucket skateboard belt</td>\n",
       "    </tr>\n",
       "    <tr>\n",
       "      <th>3</th>\n",
       "      <td>9000038588854897</td>\n",
       "      <td>moustache megaphone fish</td>\n",
       "    </tr>\n",
       "    <tr>\n",
       "      <th>4</th>\n",
       "      <td>9000052667981386</td>\n",
       "      <td>crayon squirrel drums</td>\n",
       "    </tr>\n",
       "  </tbody>\n",
       "</table>\n",
       "</div>"
      ],
      "text/plain": [
       "             key_id                              word\n",
       "0  9000003627287624             compass clarinet sink\n",
       "1  9000010688666847  soccer ball saxophone waterslide\n",
       "2  9000023642890129            bucket skateboard belt\n",
       "3  9000038588854897          moustache megaphone fish\n",
       "4  9000052667981386             crayon squirrel drums"
      ]
     },
     "execution_count": 43,
     "metadata": {},
     "output_type": "execute_result"
    }
   ],
   "source": [
    "submission = test[['key_id', 'word']]\n",
    "submission.to_csv(SUBMISSION_NAME, index=False)\n",
    "submission.head()"
   ]
  },
  {
   "cell_type": "code",
   "execution_count": null,
   "metadata": {},
   "outputs": [],
   "source": []
  }
 ],
 "metadata": {
  "kernelspec": {
   "display_name": "Python 3",
   "language": "python",
   "name": "python3"
  },
  "language_info": {
   "codemirror_mode": {
    "name": "ipython",
    "version": 3
   },
   "file_extension": ".py",
   "mimetype": "text/x-python",
   "name": "python",
   "nbconvert_exporter": "python",
   "pygments_lexer": "ipython3",
   "version": "3.6.6"
  }
 },
 "nbformat": 4,
 "nbformat_minor": 2
}
