{
 "cells": [
  {
   "cell_type": "code",
   "execution_count": 2,
   "metadata": {
    "_cell_guid": "b1076dfc-b9ad-4769-8c92-a6c4dae69d19",
    "_kg_hide-input": true,
    "_kg_hide-output": true,
    "_uuid": "8f2839f25d086af736a60e9eeb907d3b93b6e0e5"
   },
   "outputs": [
    {
     "name": "stdout",
     "output_type": "stream",
     "text": [
      "['test_simplified.csv', 'train_simplified.zip', 'train_simplified']\n"
     ]
    }
   ],
   "source": [
    "import os\n",
    "import ast\n",
    "import cv2\n",
    "import numpy as np\n",
    "import pandas as pd\n",
    "import seaborn as sns\n",
    "import matplotlib.pyplot as plt\n",
    "\n",
    "from sklearn.utils import shuffle\n",
    "from sklearn.model_selection import train_test_split\n",
    "\n",
    "from keras import optimizers\n",
    "from keras.utils import np_utils\n",
    "from keras.models import Model, Sequential\n",
    "from keras.callbacks import ModelCheckpoint\n",
    "from keras.layers import Dense, Input, Dropout, Flatten, Conv2D, MaxPool2D, Activation, BatchNormalization\n",
    "from keras.models import Sequential\n",
    "from keras import backend as K\n",
    "\n",
    "print(os.listdir(\"data\"))"
   ]
  },
  {
   "cell_type": "markdown",
   "metadata": {
    "_uuid": "8fe01bad6cf81c4fed213d7d75d1f3456889cac6"
   },
   "source": [
    "### helper function\n",
    "\n",
    "* convert data points to images\n",
    "* needs to be optimized for higher quality of images\n"
   ]
  },
  {
   "cell_type": "code",
   "execution_count": 3,
   "metadata": {
    "_kg_hide-input": true,
    "_uuid": "0ffc0761a2238abf1dfc627bada004f1d8f70b7c"
   },
   "outputs": [],
   "source": [
    "dim = (200, 200) #image dimension\n",
    "\n",
    "# datapoint to image conversion\n",
    "def draw_to_img(datapoints):\n",
    "\n",
    "    images = []\n",
    "    i =0\n",
    "    for data in datapoints:\n",
    "        #stroke = ast.literal_eval(stroke)\n",
    "        fig, ax = plt.subplots()\n",
    "        \n",
    "        for x,y in data:\n",
    "            ax.invert_yaxis()\n",
    "            ax.plot(x, y, linewidth=12)\n",
    "            ax.axis('off')\n",
    "        #render figure\n",
    "        fig.canvas.draw()\n",
    "        \n",
    "        X = np.array(fig.canvas.renderer._renderer)\n",
    "        plt.close(\"all\")\n",
    "        plt.clf()\n",
    "        \n",
    "        # resize, normalize and invert the image\n",
    "        X = (cv2.resize(X, dim) / 255.)[::-1]\n",
    "        # channels\n",
    "        X = X[:, :, 3]\n",
    "            \n",
    "        print('processed {}/{}'.format(i+1,len(datapoints)),end = '\\r', flush=True)\n",
    "        i+=1\n",
    "        plt.close(fig)\n",
    "        images.append(X)\n",
    "            \n",
    "    print(\"\\n\")\n",
    "    print ('Finished!')  \n",
    "    images_conv = np.array(images)    \n",
    "    return images_conv\n",
    "\n",
    "\n",
    "# grayscale to rgb conversion\n",
    "def to_rgb(img):\n",
    "    img_rgb = np.asarray(np.dstack((img, img, img)), dtype=np.uint8)\n",
    "    return img_rgb\n",
    "\n",
    "# plot model results using this function\n",
    "def plot_metrics_primary(acc, val_acc, loss, val_loss):\n",
    "    fig, (ax1, ax2) = plt.subplots(1, 2, sharex='col', figsize=(20,7))\n",
    "\n",
    "    ax1.plot(acc, label='Train Accuracy')\n",
    "    ax1.plot(val_acc, label='Validation accuracy')\n",
    "    ax1.legend(loc='best')\n",
    "    ax1.set_title('Accuracy')\n",
    "\n",
    "    ax2.plot(loss, label='Train loss')\n",
    "    ax2.plot(val_loss, label='Validation loss')\n",
    "    ax2.legend(loc='best')\n",
    "    ax2.set_title('Loss')\n",
    "    plt.xlabel('Epochs')"
   ]
  },
  {
   "cell_type": "code",
   "execution_count": 4,
   "metadata": {
    "_uuid": "1e0d021c412b05153cb5196b91eda69ba723c3d1"
   },
   "outputs": [],
   "source": [
    "TRAIN_PATH = \"data/train_simplified/\"\n",
    "TEST_PATH = \"data/test_simplified.csv\"\n",
    "SUBMISSION_NAME = 'submission.csv'"
   ]
  },
  {
   "cell_type": "markdown",
   "metadata": {
    "_uuid": "c2a9a5cda82abed288d395f130b591106bb55e26"
   },
   "source": [
    "* go the each csv file in training \n",
    "* read nrwos of data from all of the csv files in the train_simplified\n",
    "* set nrows to **None** to get **all** the data from **all** csv files in the train_simplified folder\n"
   ]
  },
  {
   "cell_type": "code",
   "execution_count": 94,
   "metadata": {
    "_uuid": "2ece129af9a873d7118b68bf15f562449368dc5a"
   },
   "outputs": [],
   "source": [
    "train = pd.DataFrame()\n",
    "for file in os.listdir(TRAIN_PATH):\n",
    "    train = train.append(pd.read_csv(TRAIN_PATH + file, usecols=[1, 5], nrows=1))\n",
    "    \n",
    "#shuffle the training data\n",
    "#train = shuffle(train, random_state=123)"
   ]
  },
  {
   "cell_type": "code",
   "execution_count": 95,
   "metadata": {
    "_uuid": "397010bb2a7a54376c871f3b34e371574f0c344c"
   },
   "outputs": [],
   "source": [
    "# set nrows = None for all the datapoints\n",
    "test = pd.read_csv(TEST_PATH, usecols=[0, 2], nrows=100) # was 100 before"
   ]
  },
  {
   "cell_type": "code",
   "execution_count": 96,
   "metadata": {
    "_uuid": "5d677d87c2c5ea63fb1d1604adcf7b062f0a7c88"
   },
   "outputs": [
    {
     "data": {
      "text/plain": [
       "340"
      ]
     },
     "execution_count": 96,
     "metadata": {},
     "output_type": "execute_result"
    }
   ],
   "source": [
    "# total number of classes\n",
    "len(os.listdir(TRAIN_PATH))"
   ]
  },
  {
   "cell_type": "code",
   "execution_count": 97,
   "metadata": {
    "_uuid": "103b3c6c64259bbfa0adf27b30b5adc6e54c9acc"
   },
   "outputs": [
    {
     "data": {
      "text/plain": [
       "(340, 100)"
      ]
     },
     "execution_count": 97,
     "metadata": {},
     "output_type": "execute_result"
    }
   ],
   "source": [
    "len(train), len(test)"
   ]
  },
  {
   "cell_type": "code",
   "execution_count": 98,
   "metadata": {
    "_uuid": "f85138e26d4c31c71800eb7490e5d6b8f80d988b"
   },
   "outputs": [
    {
     "name": "stdout",
     "output_type": "stream",
     "text": [
      "340\n"
     ]
    }
   ],
   "source": [
    "# Model parameters\n",
    "LEARNING_RATE = 0.001\n",
    "N_CLASSES = train['word'].nunique() #number of classes\n",
    "CHANNEL = 1\n",
    "\n",
    "print(N_CLASSES)"
   ]
  },
  {
   "cell_type": "code",
   "execution_count": 87,
   "metadata": {
    "_uuid": "f60030fac41b335e966ee07896bb867f01744e7f"
   },
   "outputs": [
    {
     "data": {
      "text/plain": [
       "340"
      ]
     },
     "execution_count": 87,
     "metadata": {},
     "output_type": "execute_result"
    }
   ],
   "source": [
    "# fixing label in the training set\n",
    "train['word'] = train['word'].replace(' ', '_', regex=True)\n",
    "\n",
    "# get labels and one-hot encode them.\n",
    "classes_names = train['word'].unique()\n",
    "labels = pd.get_dummies(train['word']).values\n",
    "train.drop(['word'], axis=1, inplace=True)\n",
    "len(labels)"
   ]
  },
  {
   "cell_type": "code",
   "execution_count": 88,
   "metadata": {
    "_uuid": "123325ff20ff90fd8761f5c71f89bbef6cf886e3"
   },
   "outputs": [],
   "source": [
    "#print(classes_names)"
   ]
  },
  {
   "cell_type": "code",
   "execution_count": 89,
   "metadata": {
    "_uuid": "9a16169d3579771a3c3b6bea5053b9bbd617a1cd"
   },
   "outputs": [
    {
     "name": "stdout",
     "output_type": "stream",
     "text": [
      "[0 0 0 0 0 0 0 0 0 0 0 0 0 0 0 0 0 0 0 0 0 0 0 0 0 0 0 0 0 0 0 0 0 0 0 0 0\n",
      " 0 0 0 0 0 0 0 0 0 0 0 0 0 0 0 0 0 0 0 0 0 0 0 0 0 0 0 0 0 0 0 0 0 0 0 0 0\n",
      " 0 0 0 0 0 0 0 0 0 0 0 0 0 0 0 0 0 0 0 0 0 0 0 0 0 0 0 0 0 0 0 0 0 0 0 0 0\n",
      " 0 0 0 0 0 0 0 0 0 0 0 0 0 0 0 0 0 0 0 0 0 0 0 0 0 0 0 0 0 0 0 0 0 0 0 0 0\n",
      " 0 0 0 0 0 0 0 0 0 0 0 0 0 0 0 0 0 0 0 0 0 0 1 0 0 0 0 0 0 0 0 0 0 0 0 0 0\n",
      " 0 0 0 0 0 0 0 0 0 0 0 0 0 0 0 0 0 0 0 0 0 0 0 0 0 0 0 0 0 0 0 0 0 0 0 0 0\n",
      " 0 0 0 0 0 0 0 0 0 0 0 0 0 0 0 0 0 0 0 0 0 0 0 0 0 0 0 0 0 0 0 0 0 0 0 0 0\n",
      " 0 0 0 0 0 0 0 0 0 0 0 0 0 0 0 0 0 0 0 0 0 0 0 0 0 0 0 0 0 0 0 0 0 0 0 0 0\n",
      " 0 0 0 0 0 0 0 0 0 0 0 0 0 0 0 0 0 0 0 0 0 0 0 0 0 0 0 0 0 0 0 0 0 0 0 0 0\n",
      " 0 0 0 0 0 0 0]\n"
     ]
    }
   ],
   "source": [
    "print(labels[100])"
   ]
  },
  {
   "cell_type": "code",
   "execution_count": 90,
   "metadata": {
    "_uuid": "81072d57279e4e9dba7952c098f16c4f509f083c"
   },
   "outputs": [
    {
     "data": {
      "text/plain": [
       "340"
      ]
     },
     "execution_count": 90,
     "metadata": {},
     "output_type": "execute_result"
    }
   ],
   "source": [
    "#  training datapoints stacked in a list\n",
    "drawings_train = [ast.literal_eval(pts) for pts in train['drawing'].values]\n",
    "len(drawings_train)"
   ]
  },
  {
   "cell_type": "code",
   "execution_count": 14,
   "metadata": {
    "_uuid": "86e3a16548be9dd2d2b64e24e532ca6b4c96c26f",
    "scrolled": true
   },
   "outputs": [
    {
     "name": "stdout",
     "output_type": "stream",
     "text": [
      "processed 340/340\n",
      "\n",
      "Finished!\n"
     ]
    },
    {
     "data": {
      "text/plain": [
       "<Figure size 432x288 with 0 Axes>"
      ]
     },
     "metadata": {},
     "output_type": "display_data"
    }
   ],
   "source": [
    "train_images = draw_to_img(drawings_train)"
   ]
  },
  {
   "cell_type": "code",
   "execution_count": 20,
   "metadata": {
    "_uuid": "78434540c97d202ea78b71c7d66a85363364bde2"
   },
   "outputs": [
    {
     "data": {
      "text/plain": [
       "<matplotlib.image.AxesImage at 0x7f07ceb69a90>"
      ]
     },
     "execution_count": 20,
     "metadata": {},
     "output_type": "execute_result"
    },
    {
     "data": {
      "image/png": "[encoded data removed]",
      "text/plain": [
       "<Figure size 432x288 with 1 Axes>"
      ]
     },
     "metadata": {},
     "output_type": "display_data"
    }
   ],
   "source": [
    "plt.imshow(train_images[0], cmap=plt.cm.binary_r)"
   ]
  },
  {
   "cell_type": "code",
   "execution_count": 100,
   "metadata": {
    "_uuid": "bb0f98cf364cf68fe206b610adc3e82de030ca91"
   },
   "outputs": [
    {
     "data": {
      "text/plain": [
       "100"
      ]
     },
     "execution_count": 100,
     "metadata": {},
     "output_type": "execute_result"
    }
   ],
   "source": [
    "#  testing datapoints stacked in a list\n",
    "drawings_test = [ast.literal_eval(pts) for pts in test['drawing'].values]\n",
    "len(drawings_test)"
   ]
  },
  {
   "cell_type": "code",
   "execution_count": 101,
   "metadata": {
    "_uuid": "abb4f9816beb2803eb9c8aca1fdd47bf2f12f317"
   },
   "outputs": [
    {
     "name": "stdout",
     "output_type": "stream",
     "text": [
      "processed 100/100\n",
      "\n",
      "Finished!\n"
     ]
    },
    {
     "data": {
      "text/plain": [
       "<Figure size 432x288 with 0 Axes>"
      ]
     },
     "metadata": {},
     "output_type": "display_data"
    }
   ],
   "source": [
    "test_images = draw_to_img(drawings_test)"
   ]
  },
  {
   "cell_type": "code",
   "execution_count": 24,
   "metadata": {
    "_uuid": "7c2b97fff6b6ea8bff37a2fe4e6ce72fa74c821b"
   },
   "outputs": [
    {
     "data": {
      "text/plain": [
       "((340, 200, 200), (100, 200, 200))"
      ]
     },
     "execution_count": 24,
     "metadata": {},
     "output_type": "execute_result"
    }
   ],
   "source": [
    "train_images.shape, test_images.shape"
   ]
  },
  {
   "cell_type": "markdown",
   "metadata": {
    "_uuid": "b59cf34b2b3caf122bf544e00df79bbe8d17b5f1"
   },
   "source": [
    "### Split data in train and validation (90% ~ 10%)"
   ]
  },
  {
   "cell_type": "code",
   "execution_count": 25,
   "metadata": {
    "_uuid": "6dc86fbe18e8cffbbc07a7334b44163f7152fd19"
   },
   "outputs": [],
   "source": [
    "x_train, x_val, y_train, y_val = train_test_split(train_images, labels, test_size=0.1, random_state=1)"
   ]
  },
  {
   "cell_type": "markdown",
   "metadata": {
    "_uuid": "693b93032dd32525a86a616e35a7004c76044895"
   },
   "source": [
    "Train and valididation sets"
   ]
  },
  {
   "cell_type": "code",
   "execution_count": 26,
   "metadata": {
    "_uuid": "8eb32698d89ff4acbee90467925e226ab73fb1e5"
   },
   "outputs": [
    {
     "data": {
      "text/plain": [
       "((306, 200, 200), (306, 340), (34, 200, 200), (34, 340))"
      ]
     },
     "execution_count": 26,
     "metadata": {},
     "output_type": "execute_result"
    }
   ],
   "source": [
    "x_train.shape, y_train.shape, x_val.shape, y_val.shape"
   ]
  },
  {
   "cell_type": "code",
   "execution_count": 102,
   "metadata": {
    "_uuid": "b63f7176600c528a324351e88a82be350f585084"
   },
   "outputs": [
    {
     "data": {
      "image/png": "[encoded data removed]",
      "text/plain": [
       "<Figure size 648x216 with 2 Axes>"
      ]
     },
     "metadata": {},
     "output_type": "display_data"
    }
   ],
   "source": [
    "img_train = train_images[0]\n",
    "img_test = test_images[0]\n",
    "\n",
    "plt.figure(figsize=(9, 3));\n",
    "plt.subplot(1, 2, 1); plt.title('Train'); plt.axis('off');\n",
    "plt.imshow(img_train, cmap='gray');\n",
    "plt.subplot(1, 2, 2); plt.title('Test'); plt.axis('off');\n",
    "plt.imshow(img_test, cmap='gray');"
   ]
  },
  {
   "cell_type": "code",
   "execution_count": 28,
   "metadata": {
    "_uuid": "94b74e844d9910cdbb59ad79f40b5ef793f25a20"
   },
   "outputs": [
    {
     "data": {
      "text/plain": [
       "((306, 200, 200), (306, 340), (34, 200, 200), (34, 340))"
      ]
     },
     "execution_count": 28,
     "metadata": {},
     "output_type": "execute_result"
    }
   ],
   "source": [
    "x_train.shape, y_train.shape, x_val.shape, y_val.shape"
   ]
  },
  {
   "cell_type": "markdown",
   "metadata": {
    "_uuid": "66dcdda4452c15e9ddbf41c5792aa6c3175a9fe0"
   },
   "source": [
    "### FINAL MODEL PIPELINE UP TO THIS!"
   ]
  },
  {
   "cell_type": "markdown",
   "metadata": {
    "_uuid": "849ec3f88cbe0a1b5db7c0c284a1f729b0370ffd"
   },
   "source": [
    "### Model"
   ]
  },
  {
   "cell_type": "code",
   "execution_count": 38,
   "metadata": {
    "_uuid": "934ea535b462115e66830e34b5e98c41cd79a9c0"
   },
   "outputs": [],
   "source": [
    "from __future__ import print_function\n",
    "import keras\n",
    "from keras.datasets import mnist\n",
    "from keras.models import Sequential\n",
    "from keras.layers import Dense, Dropout, Flatten\n",
    "from keras.layers import Conv2D, MaxPooling2D\n",
    "from keras import backend as K\n",
    "\n",
    "\n",
    "batch_size = 64\n",
    "num_classes = N_CLASSES\n",
    "epochs = 4\n",
    "# dim = (200, 200) #image dimension\n",
    "img_rows, img_cols = 200, 200"
   ]
  },
  {
   "cell_type": "code",
   "execution_count": 39,
   "metadata": {
    "_uuid": "79eeab96db9534d80ee8ba3815c69778bb4e6b3e"
   },
   "outputs": [],
   "source": [
    "if K.image_data_format() == 'channels_first':\n",
    "    x_train = x_train.reshape(x_train.shape[0], 1, img_rows, img_cols)\n",
    "    x_test = x_val.reshape(x_val.shape[0], 1, img_rows, img_cols)\n",
    "    input_shape = (1, img_rows, img_cols)\n",
    "else:\n",
    "    x_train = x_train.reshape(x_train.shape[0], img_rows, img_cols, 1)\n",
    "    x_val = x_val.reshape(x_val.shape[0], img_rows, img_cols, 1)\n",
    "    input_shape = (img_rows, img_cols, 1)"
   ]
  },
  {
   "cell_type": "code",
   "execution_count": 40,
   "metadata": {
    "_uuid": "701d4977c003af05873d735b8833f550d0093f73"
   },
   "outputs": [
    {
     "name": "stdout",
     "output_type": "stream",
     "text": [
      "x_train shape: (306, 200, 200, 1)\n",
      "x_val shape: (34, 200, 200, 1)\n",
      "306 train samples\n",
      "34 test samples\n"
     ]
    }
   ],
   "source": [
    "x_train = x_train.astype('float32')\n",
    "x_val = x_val.astype('float32')\n",
    "\n",
    "x_train /= 255\n",
    "x_val /= 255\n",
    "\n",
    "print('x_train shape:', x_train.shape)\n",
    "print('x_val shape:', x_val.shape)\n",
    "\n",
    "print(x_train.shape[0], 'train samples')\n",
    "print(x_val.shape[0], 'test samples')"
   ]
  },
  {
   "cell_type": "code",
   "execution_count": 41,
   "metadata": {
    "_uuid": "bcd011eb6e7425f1cf2e9c43b783956ada7eeb09"
   },
   "outputs": [],
   "source": [
    "# convert class vectors to binary class matrices\n",
    "#y_train = keras.utils.to_categorical(y_train, num_classes)\n",
    "#y_val = keras.utils.to_categorical(y_val, num_classes)"
   ]
  },
  {
   "cell_type": "code",
   "execution_count": 42,
   "metadata": {
    "_uuid": "576590621e9680ff757e5fa3d18ab0298027c346"
   },
   "outputs": [
    {
     "name": "stdout",
     "output_type": "stream",
     "text": [
      "(306, 200, 200, 1) (306, 340) (34, 200, 200, 1) (34, 340)\n"
     ]
    }
   ],
   "source": [
    "print(x_train.shape, y_train.shape, x_val.shape, y_val.shape)"
   ]
  },
  {
   "cell_type": "code",
   "execution_count": 43,
   "metadata": {
    "_uuid": "6d0da9dbfb9beec5135ec2fa6351e196ca5570a1"
   },
   "outputs": [
    {
     "name": "stdout",
     "output_type": "stream",
     "text": [
      "(200, 200, 1)\n"
     ]
    }
   ],
   "source": [
    "print(x_train[5].shape)"
   ]
  },
  {
   "cell_type": "code",
   "execution_count": 44,
   "metadata": {
    "_uuid": "9884266fff52858eab38de98e4111283e8b0a86b"
   },
   "outputs": [
    {
     "name": "stdout",
     "output_type": "stream",
     "text": [
      "(200, 200, 1)\n"
     ]
    }
   ],
   "source": [
    "#y_train[0]\n",
    "print(input_shape)"
   ]
  },
  {
   "cell_type": "code",
   "execution_count": 45,
   "metadata": {
    "_uuid": "199000bd50a8aa7ac0bcb08ba349f970e79a1522",
    "scrolled": true
   },
   "outputs": [
    {
     "data": {
      "text/plain": [
       "\"\\nmodel = Sequential()\\nmodel.add(Conv2D(32, kernel_size=(3, 3),activation='relu',input_shape=input_shape))\\nmodel.add(Conv2D(64, (3, 3), activation='relu'))\\nmodel.add(MaxPooling2D(pool_size=(2, 2)))\\nmodel.add(Dropout(0.25))\\nmodel.add(Flatten())\\nmodel.add(Dense(128, activation='relu'))\\nmodel.add(Dropout(0.5))\\nmodel.add(Dense(num_classes, activation='softmax'))\\n\\nmodel.compile(loss=keras.losses.categorical_crossentropy,\\n              optimizer=keras.optimizers.Adadelta(),\\nmetrics=['accuracy'])\\n\\nmodel.summary()\\n\\n\""
      ]
     },
     "execution_count": 45,
     "metadata": {},
     "output_type": "execute_result"
    }
   ],
   "source": [
    "# refer to https://github.com/keras-team/keras/blob/master/examples/mnist_cnn.py\n",
    "\n",
    "'''\n",
    "model = Sequential()\n",
    "model.add(Conv2D(32, kernel_size=(3, 3),activation='relu',input_shape=input_shape))\n",
    "model.add(Conv2D(64, (3, 3), activation='relu'))\n",
    "model.add(MaxPooling2D(pool_size=(2, 2)))\n",
    "model.add(Dropout(0.25))\n",
    "model.add(Flatten())\n",
    "model.add(Dense(128, activation='relu'))\n",
    "model.add(Dropout(0.5))\n",
    "model.add(Dense(num_classes, activation='softmax'))\n",
    "\n",
    "model.compile(loss=keras.losses.categorical_crossentropy,\n",
    "              optimizer=keras.optimizers.Adadelta(),\n",
    "metrics=['accuracy'])\n",
    "\n",
    "model.summary()\n",
    "\n",
    "'''"
   ]
  },
  {
   "cell_type": "code",
   "execution_count": 46,
   "metadata": {
    "_uuid": "1e62b647c4ba23552d24011a0dc52e6a2a87f7d7"
   },
   "outputs": [
    {
     "name": "stdout",
     "output_type": "stream",
     "text": [
      "_________________________________________________________________\n",
      "Layer (type)                 Output Shape              Param #   \n",
      "=================================================================\n",
      "input_1 (InputLayer)         (None, 200, 200, 1)       0         \n",
      "_________________________________________________________________\n",
      "conv2d_1 (Conv2D)            (None, 196, 196, 8)       208       \n",
      "_________________________________________________________________\n",
      "max_pooling2d_1 (MaxPooling2 (None, 98, 98, 8)         0         \n",
      "_________________________________________________________________\n",
      "conv2d_2 (Conv2D)            (None, 96, 96, 16)        1168      \n",
      "_________________________________________________________________\n",
      "max_pooling2d_2 (MaxPooling2 (None, 48, 48, 16)        0         \n",
      "_________________________________________________________________\n",
      "conv2d_3 (Conv2D)            (None, 46, 46, 32)        4640      \n",
      "_________________________________________________________________\n",
      "max_pooling2d_3 (MaxPooling2 (None, 23, 23, 32)        0         \n",
      "_________________________________________________________________\n",
      "conv2d_4 (Conv2D)            (None, 23, 23, 64)        18496     \n",
      "_________________________________________________________________\n",
      "max_pooling2d_4 (MaxPooling2 (None, 12, 12, 64)        0         \n",
      "_________________________________________________________________\n",
      "flatten_1 (Flatten)          (None, 9216)              0         \n",
      "_________________________________________________________________\n",
      "dense_1 (Dense)              (None, 64)                589888    \n",
      "_________________________________________________________________\n",
      "dense_2 (Dense)              (None, 340)               22100     \n",
      "_________________________________________________________________\n",
      "activation_1 (Activation)    (None, 340)               0         \n",
      "=================================================================\n",
      "Total params: 636,500\n",
      "Trainable params: 636,500\n",
      "Non-trainable params: 0\n",
      "_________________________________________________________________\n"
     ]
    }
   ],
   "source": [
    "def get_model():\n",
    "    \n",
    "    input_layer=Input(shape=(img_rows, img_cols, 1))\n",
    "    \n",
    "    x=Conv2D(filters=8,kernel_size=(5,5),padding='valid', activation='relu')(input_layer)\n",
    "    x=MaxPool2D(pool_size=(2,2),strides=2,padding='valid')(x)\n",
    "    \n",
    "    x=Conv2D(filters=16,kernel_size=(3,3),padding='valid', activation='relu')(x)\n",
    "    x=MaxPool2D(pool_size=(2,2),strides=2,padding='valid')(x)\n",
    "    \n",
    "    x=Conv2D(filters=32,kernel_size=(3,3),padding='valid', activation='relu')(x)\n",
    "    x=MaxPool2D(pool_size=(2,2),strides=2,padding='valid')(x)\n",
    "    \n",
    "    \n",
    "    x=Conv2D(filters=64,kernel_size=(3,3),padding='same', activation='relu')(x)\n",
    "    x=MaxPool2D(pool_size=(2,2),strides=2,padding='same')(x)\n",
    "    \n",
    "    #x=Conv2D(filters=64,kernel_size=(3,3),padding='same', activation='relu')(x)\n",
    "    #x=MaxPool2D(pool_size=(2,2),strides=2,padding='same')(x)\n",
    "    \n",
    "    #x=Conv2D(filters=64,kernel_size=(3,3),padding='same', activation='relu')(x)\n",
    "    #x=MaxPool2D(pool_size=(2,2),strides=2,padding='same')(x)\n",
    "    \n",
    "    #x=Conv2D(filters=64,kernel_size=(3,3),padding='same', activation='relu')(x)\n",
    "    #x=MaxPool2D(pool_size=(2,2),strides=2,padding='same')(x)\n",
    "    \n",
    "    x=Flatten()(x)\n",
    "    \n",
    "    x=Dense(units=64)(x)\n",
    "    x=Dense(units=N_CLASSES)(x) \n",
    "    \n",
    "    output_layer=Activation('softmax')(x)\n",
    "    model=Model(inputs=input_layer,outputs=output_layer)\n",
    "    model.compile(loss='categorical_crossentropy',metrics=['accuracy'],optimizer='adadelta')\n",
    "    return model\n",
    "\n",
    "model=get_model()\n",
    "model.summary()"
   ]
  },
  {
   "cell_type": "code",
   "execution_count": null,
   "metadata": {
    "_uuid": "00ead472b3b7f36c65e283c427473b7a10cccc8c"
   },
   "outputs": [],
   "source": [
    "'''\n",
    "model.fit(x_train, y_train,\n",
    "          batch_size=batch_size,\n",
    "          epochs=epochs,\n",
    "          verbose=1,\n",
    "          validation_data=(x_val, y_val))\n",
    "#score = model.evaluate(x_test, y_test, verbose=0)\n",
    "\n",
    "\n",
    "'''"
   ]
  },
  {
   "cell_type": "code",
   "execution_count": 47,
   "metadata": {
    "_uuid": "01c0fbe1cbda9024e7c850fbdee38a13c44e50d3"
   },
   "outputs": [
    {
     "name": "stdout",
     "output_type": "stream",
     "text": [
      "(306, 200, 200, 1) (306, 340) (34, 200, 200, 1) (34, 340)\n"
     ]
    }
   ],
   "source": [
    "print(x_train.shape, y_train.shape, x_val.shape, y_val.shape)"
   ]
  },
  {
   "cell_type": "code",
   "execution_count": 48,
   "metadata": {
    "_uuid": "9608338de552f447931f89651ad5d10d163e855b"
   },
   "outputs": [
    {
     "name": "stdout",
     "output_type": "stream",
     "text": [
      "Train on 306 samples, validate on 34 samples\n",
      "Epoch 1/10\n",
      "306/306 [==============================] - 10s 32ms/step - loss: 5.8308 - acc: 0.0000e+00 - val_loss: 5.8346 - val_acc: 0.0000e+00\n",
      "Epoch 2/10\n",
      "306/306 [==============================] - 8s 27ms/step - loss: 5.8296 - acc: 0.0000e+00 - val_loss: 5.8407 - val_acc: 0.0000e+00\n",
      "Epoch 3/10\n",
      "306/306 [==============================] - 8s 27ms/step - loss: 5.8289 - acc: 0.0000e+00 - val_loss: 5.8472 - val_acc: 0.0000e+00\n",
      "Epoch 4/10\n",
      "306/306 [==============================] - 8s 28ms/step - loss: 5.8282 - acc: 0.0033 - val_loss: 5.8539 - val_acc: 0.0000e+00\n",
      "Epoch 5/10\n",
      "306/306 [==============================] - 8s 27ms/step - loss: 5.8275 - acc: 0.0000e+00 - val_loss: 5.8609 - val_acc: 0.0000e+00\n",
      "Epoch 6/10\n",
      "306/306 [==============================] - 8s 27ms/step - loss: 5.8268 - acc: 0.0000e+00 - val_loss: 5.8678 - val_acc: 0.0000e+00\n",
      "Epoch 7/10\n",
      "306/306 [==============================] - 8s 27ms/step - loss: 5.8260 - acc: 0.0033 - val_loss: 5.8752 - val_acc: 0.0000e+00\n",
      "Epoch 8/10\n",
      "306/306 [==============================] - 8s 27ms/step - loss: 5.8253 - acc: 0.0000e+00 - val_loss: 5.8823 - val_acc: 0.0000e+00\n",
      "Epoch 9/10\n",
      "306/306 [==============================] - 8s 27ms/step - loss: 5.8245 - acc: 0.0000e+00 - val_loss: 5.8899 - val_acc: 0.0000e+00\n",
      "Epoch 10/10\n",
      "306/306 [==============================] - 8s 27ms/step - loss: 5.8239 - acc: 0.0000e+00 - val_loss: 5.8974 - val_acc: 0.0000e+00\n"
     ]
    }
   ],
   "source": [
    "path_model='quickdraw_cnn.h5' \n",
    "\n",
    "#K.tensorflow_backend.clear_session() # destroys the current graph and builds a new one\n",
    "model=get_model() \n",
    "#K.set_value(model.optimizer.lr,1e-3) # set the learning rate\n",
    "\n",
    "h=model.fit(x=x_train,     \n",
    "            y=y_train, \n",
    "            batch_size=64, \n",
    "            epochs=10,\n",
    "            verbose=1, \n",
    "            validation_data=(x_val,y_val),\n",
    "            shuffle=True,\n",
    "            callbacks=[\n",
    "                ModelCheckpoint(filepath=path_model),\n",
    "            ]\n",
    "            )"
   ]
  },
  {
   "cell_type": "markdown",
   "metadata": {
    "_uuid": "82ddcd2903e53f322ed219493c9a0fb42b6d935c"
   },
   "source": [
    "### Test model"
   ]
  },
  {
   "cell_type": "code",
   "execution_count": null,
   "metadata": {
    "_kg_hide-output": true,
    "_uuid": "6da72903616ec04c9295619547dc5932a9b99265"
   },
   "outputs": [],
   "source": [
    "# Transform drawing into numpy arrays\n",
    "#test['drawing_np'] = test['drawing'].apply(drawing_to_np)\n",
    "# Reshape arrays\n",
    "#test_drawings = np.asarray([x.reshape(HEIGHT, WIDTH, CHANNEL) for x in test['drawing_np'].values])"
   ]
  },
  {
   "cell_type": "code",
   "execution_count": null,
   "metadata": {
    "_uuid": "19a208780fc99e1b80f3d3213991aa685c51b0a7"
   },
   "outputs": [],
   "source": [
    "#test_drawings.shape"
   ]
  },
  {
   "cell_type": "code",
   "execution_count": 56,
   "metadata": {
    "_uuid": "ad44cdf88a23469256f207d4f842bb73749801db"
   },
   "outputs": [
    {
     "data": {
      "text/plain": [
       "'\\ndim = (48, 48)\\nimgs_list_test = []\\n\\nfor img in range(len(test_images)):\\n    image = cv2.resize(test_images[img], dim, interpolation = cv2.INTER_AREA)\\n    image_arr = np.asarray(np.dstack((image, image, image)), dtype=np.uint8)\\n    imgs_list_test.append(image_arr)\\n    \\nrgb_arr = np.stack([imgs_list_test],axis=4)\\ntest_3d = np.squeeze(rgb_arr, axis=4)\\n\\ntest_3d.shape\\n\\n'"
      ]
     },
     "execution_count": 56,
     "metadata": {},
     "output_type": "execute_result"
    }
   ],
   "source": [
    "'''\n",
    "dim = (48, 48)\n",
    "imgs_list_test = []\n",
    "\n",
    "for img in range(len(test_images)):\n",
    "    image = cv2.resize(test_images[img], dim, interpolation = cv2.INTER_AREA)\n",
    "    image_arr = np.asarray(np.dstack((image, image, image)), dtype=np.uint8)\n",
    "    imgs_list_test.append(image_arr)\n",
    "    \n",
    "rgb_arr = np.stack([imgs_list_test],axis=4)\n",
    "test_3d = np.squeeze(rgb_arr, axis=4)\n",
    "\n",
    "test_3d.shape\n",
    "\n",
    "'''"
   ]
  },
  {
   "cell_type": "code",
   "execution_count": 61,
   "metadata": {
    "_uuid": "93f5eeb06ce0b940f3d395818c02c33b3c136e01"
   },
   "outputs": [],
   "source": [
    "if K.image_data_format() == 'channels_first':\n",
    "    test_images = test_images.reshape(test_images.shape[0], 1, img_rows, img_cols)\n",
    "    input_shape = (1, img_rows, img_cols)\n",
    "else:\n",
    "    test_images = test_images.reshape(test_images.shape[0], img_rows, img_cols, 1)\n",
    "    input_shape = (img_rows, img_cols, 1)"
   ]
  },
  {
   "cell_type": "code",
   "execution_count": 62,
   "metadata": {
    "_uuid": "ad7b31c8e7dca1d037c21d578f7a605fbdaddc56"
   },
   "outputs": [
    {
     "name": "stdout",
     "output_type": "stream",
     "text": [
      "(100, 200, 200, 1)\n"
     ]
    }
   ],
   "source": [
    "test_images_re = test_images.astype('float32')\n",
    "test_images_re /= 255\n",
    "\n",
    "print(test_images_new.shape)"
   ]
  },
  {
   "cell_type": "code",
   "execution_count": 63,
   "metadata": {
    "_uuid": "9b3e75078cf81b354198cd95d853694ccc16e7c2"
   },
   "outputs": [
    {
     "data": {
      "text/plain": [
       "(100, 200, 200, 1)"
      ]
     },
     "execution_count": 63,
     "metadata": {},
     "output_type": "execute_result"
    }
   ],
   "source": [
    "test_images.shape"
   ]
  },
  {
   "cell_type": "code",
   "execution_count": 77,
   "metadata": {
    "_uuid": "0331a8c9470c1d4839d51471fd612ce42a86643c",
    "scrolled": true
   },
   "outputs": [],
   "source": [
    "#make predictions\n",
    "predictions = model.predict(test_images_new)"
   ]
  },
  {
   "cell_type": "code",
   "execution_count": 73,
   "metadata": {},
   "outputs": [
    {
     "name": "stdout",
     "output_type": "stream",
     "text": [
      "[269  69 251]\n"
     ]
    }
   ],
   "source": [
    "x = np.argpartition(predictions[5], -3)[-3:]\n",
    "print(x)"
   ]
  },
  {
   "cell_type": "code",
   "execution_count": 74,
   "metadata": {},
   "outputs": [],
   "source": [
    "top_3_predictions = np.asarray([np.argpartition(pred, -3)[-3:] for pred in predictions])\n",
    "top_3_predictions = ['%s %s %s' % (classes_names[pred[0]], classes_names[pred[1]], classes_names[pred[2]]) for pred in top_3_predictions]\n",
    "test['word'] = top_3_predictions"
   ]
  },
  {
   "cell_type": "code",
   "execution_count": 75,
   "metadata": {
    "_uuid": "61e488298ec480b24492932a3a301900e269d9ef"
   },
   "outputs": [
    {
     "name": "stdout",
     "output_type": "stream",
     "text": [
      "crocodile spoon animal_migration\n"
     ]
    }
   ],
   "source": [
    "len(top_3_predictions)\n",
    "print(top_3_predictions[5])"
   ]
  },
  {
   "cell_type": "code",
   "execution_count": 76,
   "metadata": {
    "_uuid": "ad2d257cb229ac7a7480c3e45fafefbd0774413a"
   },
   "outputs": [
    {
     "data": {
      "text/html": [
       "<div>\n",
       "<style scoped>\n",
       "    .dataframe tbody tr th:only-of-type {\n",
       "        vertical-align: middle;\n",
       "    }\n",
       "\n",
       "    .dataframe tbody tr th {\n",
       "        vertical-align: top;\n",
       "    }\n",
       "\n",
       "    .dataframe thead th {\n",
       "        text-align: right;\n",
       "    }\n",
       "</style>\n",
       "<table border=\"1\" class=\"dataframe\">\n",
       "  <thead>\n",
       "    <tr style=\"text-align: right;\">\n",
       "      <th></th>\n",
       "      <th>key_id</th>\n",
       "      <th>word</th>\n",
       "    </tr>\n",
       "  </thead>\n",
       "  <tbody>\n",
       "    <tr>\n",
       "      <th>0</th>\n",
       "      <td>9000003627287624</td>\n",
       "      <td>lipstick spoon animal_migration</td>\n",
       "    </tr>\n",
       "    <tr>\n",
       "      <th>1</th>\n",
       "      <td>9000010688666847</td>\n",
       "      <td>crocodile spoon animal_migration</td>\n",
       "    </tr>\n",
       "    <tr>\n",
       "      <th>2</th>\n",
       "      <td>9000023642890129</td>\n",
       "      <td>crocodile spoon animal_migration</td>\n",
       "    </tr>\n",
       "    <tr>\n",
       "      <th>3</th>\n",
       "      <td>9000038588854897</td>\n",
       "      <td>lipstick spoon animal_migration</td>\n",
       "    </tr>\n",
       "    <tr>\n",
       "      <th>4</th>\n",
       "      <td>9000052667981386</td>\n",
       "      <td>butterfly animal_migration spoon</td>\n",
       "    </tr>\n",
       "  </tbody>\n",
       "</table>\n",
       "</div>"
      ],
      "text/plain": [
       "             key_id                              word\n",
       "0  9000003627287624   lipstick spoon animal_migration\n",
       "1  9000010688666847  crocodile spoon animal_migration\n",
       "2  9000023642890129  crocodile spoon animal_migration\n",
       "3  9000038588854897   lipstick spoon animal_migration\n",
       "4  9000052667981386  butterfly animal_migration spoon"
      ]
     },
     "execution_count": 76,
     "metadata": {},
     "output_type": "execute_result"
    }
   ],
   "source": [
    "submission = test[['key_id', 'word']]\n",
    "submission.to_csv(SUBMISSION_NAME, index=False)\n",
    "submission.head()"
   ]
  },
  {
   "cell_type": "code",
   "execution_count": null,
   "metadata": {
    "_uuid": "382b91fd93ad518b0074e2e86b754a144813f638"
   },
   "outputs": [],
   "source": []
  }
 ],
 "metadata": {
  "kernelspec": {
   "display_name": "Python 3",
   "language": "python",
   "name": "python3"
  },
  "language_info": {
   "codemirror_mode": {
    "name": "ipython",
    "version": 3
   },
   "file_extension": ".py",
   "mimetype": "text/x-python",
   "name": "python",
   "nbconvert_exporter": "python",
   "pygments_lexer": "ipython3",
   "version": "3.6.5"
  }
 },
 "nbformat": 4,
 "nbformat_minor": 1
}
